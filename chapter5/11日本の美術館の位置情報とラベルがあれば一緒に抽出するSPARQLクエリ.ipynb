{
 "cells": [
  {
   "cell_type": "code",
   "execution_count": 1,
   "metadata": {},
   "outputs": [],
   "source": [
    "from SPARQLWrapper import SPARQLWrapper"
   ]
  },
  {
   "cell_type": "code",
   "execution_count": 2,
   "metadata": {},
   "outputs": [],
   "source": [
    "sparql = SPARQLWrapper('http://ja.dbpedia.org/sparql')"
   ]
  },
  {
   "cell_type": "code",
   "execution_count": 3,
   "metadata": {},
   "outputs": [],
   "source": [
    "sparql.setQuery(r'''\n",
    "SELECT * WHERE {\n",
    "    ?s rdf:dbpedia-owl dbpedia:Museum ;\n",
    "    prop-ja:所在地 ?address .\n",
    "    OPTIONAL { ?s rdfs:label ?label . }\n",
    "    OPTIONAL {\n",
    "    ?s prop-ja:経度度 ?lon_degree ;\n",
    "        prop-ja:経度分 ?lon_minute ;\n",
    "        prop-ja:経度秒 ?lon_second ;\n",
    "        prop-ja:緯度度 ?lat_degree ;\n",
    "        prop-ja:経度分 ?lat_minute ;\n",
    "        prop-ja:経度秒 ?lat_second .\n",
    "    }\n",
    "    FILTER REGEX(?address, \"^\\\\p{Han}{2,3}[都道府県]\")\n",
    "} ORDER BY ?s\n",
    "\n",
    "''') "
   ]
  },
  {
   "cell_type": "code",
   "execution_count": 4,
   "metadata": {},
   "outputs": [],
   "source": [
    "sparql.setReturnFormat('json')"
   ]
  },
  {
   "cell_type": "code",
   "execution_count": 5,
   "metadata": {},
   "outputs": [],
   "source": [
    "response = sparql.query().convert()"
   ]
  },
  {
   "cell_type": "code",
   "execution_count": 6,
   "metadata": {},
   "outputs": [
    {
     "data": {
      "text/plain": [
       "{'head': {'link': [],\n",
       "  'vars': ['s',\n",
       "   'address',\n",
       "   'label',\n",
       "   'lon_degree',\n",
       "   'lon_minute',\n",
       "   'lon_second',\n",
       "   'lat_degree',\n",
       "   'lat_minute',\n",
       "   'lat_second']},\n",
       " 'results': {'bindings': [], 'distinct': False, 'ordered': True}}"
      ]
     },
     "execution_count": 6,
     "metadata": {},
     "output_type": "execute_result"
    }
   ],
   "source": [
    "response"
   ]
  },
  {
   "cell_type": "code",
   "execution_count": null,
   "metadata": {},
   "outputs": [],
   "source": []
  }
 ],
 "metadata": {
  "kernelspec": {
   "display_name": "Python [conda env:py36con]",
   "language": "python",
   "name": "conda-env-py36con-py"
  },
  "language_info": {
   "codemirror_mode": {
    "name": "ipython",
    "version": 3
   },
   "file_extension": ".py",
   "mimetype": "text/x-python",
   "name": "python",
   "nbconvert_exporter": "python",
   "pygments_lexer": "ipython3",
   "version": "3.6.4"
  }
 },
 "nbformat": 4,
 "nbformat_minor": 2
}
