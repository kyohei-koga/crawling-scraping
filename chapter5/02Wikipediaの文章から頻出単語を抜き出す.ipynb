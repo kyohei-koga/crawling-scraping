{
 "cells": [
  {
   "cell_type": "code",
   "execution_count": 1,
   "metadata": {},
   "outputs": [],
   "source": [
    "import sys\n",
    "import os\n",
    "from glob import glob\n",
    "from collections import Counter\n",
    "\n",
    "import MeCab"
   ]
  },
  {
   "cell_type": "code",
   "execution_count": 10,
   "metadata": {},
   "outputs": [
    {
     "data": {
      "text/plain": [
       "'/home/kyohei/articles/*/wiki_*'"
      ]
     },
     "execution_count": 10,
     "metadata": {},
     "output_type": "execute_result"
    }
   ],
   "source": [
    "os.path.join('/home/kyohei/articles/','*','wiki_*')"
   ]
  },
  {
   "cell_type": "code",
   "execution_count": 11,
   "metadata": {},
   "outputs": [],
   "source": [
    "def main():\n",
    "    \"\"\"\n",
    "    コマンドライン引数で指定したディレクトリ内のファイルを読み込んで、頻出単語を表示する。\n",
    "    \"\"\"\n",
    "    \n",
    "    input_dir = '/home/kyohei/articles/'#sys.argv[1] #コマンドラインの第1引数で、WikiExtractorの出力先のディレクトリを指定する。\n",
    "    \n",
    "    tagger = MeCab.Tagger('')\n",
    "    tagger.parse('') #parseToNode()の不具合を回避するために必要\n",
    "    #単語の頻度を格納するCounterオブジェクトを作成する。\n",
    "    #Counterクラスはdictを継承しており、値としてキーの出現回数を保持する。\n",
    "    frequency = Counter()\n",
    "    count_proccessed = 0\n",
    "    \n",
    "    #glob()でワイルどカードにマッチするファイルのリストを取得し、マッチした全てのファイルを処理する。\n",
    "    for path in glob(os.path.join(input_dir, '*', 'wiki_*')):\n",
    "        print('Processing{0}...'.format(path),file=sys.stderr)\n",
    "        \n",
    "        with open(path) as file: #ファイルを開く。\n",
    "            for content in iter_docs(file): #ファイル内の全記事について反復処理する。\n",
    "                tokens = get_tokens(tagger, content) #ページから名刺のリストを取得する。\n",
    "                #Coutnerのupdate()メソッドにリストなどの反復可能オブジェクトを指定すると、\n",
    "                #リストに含まれる値の出現回数を一度に増やせる。\n",
    "                frequency.update(tokens)\n",
    "                \n",
    "                \n",
    "                #10,000件ごとに進捗を表示。\n",
    "                count_proccessed += 1\n",
    "                if count_proccessed % 10000 == 0:\n",
    "                    print('{0} documents were proceessed.'.format(count_proccessed),file=sys.stderr)\n",
    "    #全記事の処理が完了したら、上位30件の名刺と出現回数を表示する。\n",
    "    for token, count in frequency.most_common(30):\n",
    "        print(token,count)"
   ]
  },
  {
   "cell_type": "code",
   "execution_count": 17,
   "metadata": {},
   "outputs": [],
   "source": [
    "def iter_docs(file):\n",
    "    \"\"\"\n",
    "    ファイルオブジェクトを読み込んで、記事の中身（開始タグ<doc ...>と終了タグ</doc>の間のテキスト）を\n",
    "    順に返すジェネレーター関数。\n",
    "    \"\"\"\n",
    "    \n",
    "    for line in file:\n",
    "        if line.startswith('<doc '):\n",
    "            buffer = [] #開始タグで見つかったらバッファを初期化する。\n",
    "        elif line.startswith('</doc>'):\n",
    "            #終了タグが見つかったらバッファの中身を結合してyieldする。\n",
    "            content = ''.join(buffer)\n",
    "            yield content\n",
    "        else:\n",
    "            buffer.append(line) #開始タグ・終了タグ以外の行はバッファに追加する。"
   ]
  },
  {
   "cell_type": "code",
   "execution_count": 18,
   "metadata": {},
   "outputs": [],
   "source": [
    "def get_tokens(tagger,content):\n",
    "    \"\"\"\n",
    "    文書内に出現した名刺のリストを取得する関数\n",
    "    \"\"\"\n",
    "    tokens = [] #この記事で出現した名刺を格納するリスト。\n",
    "    \n",
    "    node = tagger.parseToNode(content)\n",
    "    while node:\n",
    "        # node.featureはカンマで区切られた文字列なので、split()で分割して\n",
    "        # 最初の2項目をcategoryとsub_categoryに代入する。\n",
    "        category, sub_category = node.feature.split(',')[:2]\n",
    "        #固有名詞または一般名詞の場合のみtokensに追加する。\n",
    "        if category == '名詞' and sub_category in ('固有名詞','一般'):\n",
    "            tokens.append(node.surface)\n",
    "        node = node.next\n",
    "        \n",
    "    return tokens"
   ]
  },
  {
   "cell_type": "code",
   "execution_count": 19,
   "metadata": {},
   "outputs": [
    {
     "name": "stderr",
     "output_type": "stream",
     "text": [
      "Processing/home/kyohei/articles/AA/wiki_03...\n",
      "10000 documents were proceessed.\n",
      "20000 documents were proceessed.\n",
      "Processing/home/kyohei/articles/AA/wiki_01...\n",
      "30000 documents were proceessed.\n",
      "40000 documents were proceessed.\n",
      "Processing/home/kyohei/articles/AA/wiki_02...\n",
      "50000 documents were proceessed.\n",
      "60000 documents were proceessed.\n",
      "Processing/home/kyohei/articles/AA/wiki_04...\n",
      "70000 documents were proceessed.\n",
      "Processing/home/kyohei/articles/AA/wiki_00...\n",
      "80000 documents were proceessed.\n"
     ]
    },
    {
     "name": "stdout",
     "output_type": "stream",
     "text": [
      "月 303292\n",
      "日本 132288\n",
      "時代 66432\n",
      "駅 51534\n",
      "世界 47495\n",
      "作品 45029\n",
      "番組 43962\n",
      "列車 43733\n",
      "昭和 42998\n",
      "東京 42387\n",
      "一般 38763\n",
      "平成 37586\n",
      "地域 37371\n",
      "鉄道 37285\n",
      "アメリカ 36622\n",
      "中心 36603\n",
      "ホーム 31878\n",
      "世紀 31192\n",
      "バス 30785\n",
      "大学 30605\n",
      "車両 30267\n",
      "間 30245\n",
      "路線 29532\n",
      "映画 28933\n",
      "他 28769\n",
      "ドイツ 27515\n",
      "学校 27246\n",
      "形 26723\n",
      "事業 26654\n",
      "地方 26511\n"
     ]
    }
   ],
   "source": [
    "if __name__=='__main__':\n",
    "    main()"
   ]
  },
  {
   "cell_type": "code",
   "execution_count": 15,
   "metadata": {},
   "outputs": [],
   "source": [
    "a = 'a'"
   ]
  },
  {
   "cell_type": "code",
   "execution_count": 16,
   "metadata": {},
   "outputs": [
    {
     "data": {
      "text/plain": [
       "True"
      ]
     },
     "execution_count": 16,
     "metadata": {},
     "output_type": "execute_result"
    }
   ],
   "source": [
    "a.startswith('a')"
   ]
  },
  {
   "cell_type": "code",
   "execution_count": null,
   "metadata": {},
   "outputs": [],
   "source": []
  }
 ],
 "metadata": {
  "kernelspec": {
   "display_name": "Python [conda env:py36con]",
   "language": "python",
   "name": "conda-env-py36con-py"
  },
  "language_info": {
   "codemirror_mode": {
    "name": "ipython",
    "version": 3
   },
   "file_extension": ".py",
   "mimetype": "text/x-python",
   "name": "python",
   "nbconvert_exporter": "python",
   "pygments_lexer": "ipython3",
   "version": "3.6.4"
  }
 },
 "nbformat": 4,
 "nbformat_minor": 2
}
