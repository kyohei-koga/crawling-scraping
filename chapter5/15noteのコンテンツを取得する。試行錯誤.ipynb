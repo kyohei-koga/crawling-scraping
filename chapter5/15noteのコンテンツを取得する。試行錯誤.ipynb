{
 "cells": [
  {
   "cell_type": "code",
   "execution_count": 1,
   "metadata": {},
   "outputs": [],
   "source": [
    "from selenium import webdriver"
   ]
  },
  {
   "cell_type": "code",
   "execution_count": 2,
   "metadata": {},
   "outputs": [
    {
     "name": "stderr",
     "output_type": "stream",
     "text": [
      "/home/kyohei/anaconda2/envs/py36con/lib/python3.6/site-packages/selenium/webdriver/phantomjs/webdriver.py:49: UserWarning: Selenium support for PhantomJS has been deprecated, please use headless versions of Chrome or Firefox instead\n",
      "  warnings.warn('Selenium support for PhantomJS has been deprecated, please use headless '\n"
     ]
    }
   ],
   "source": [
    "driver = webdriver.PhantomJS()"
   ]
  },
  {
   "cell_type": "code",
   "execution_count": 3,
   "metadata": {},
   "outputs": [],
   "source": [
    "driver.get('https://note.mu/')"
   ]
  },
  {
   "cell_type": "code",
   "execution_count": 4,
   "metadata": {},
   "outputs": [
    {
     "data": {
      "text/plain": [
       "'note ――つくる、つながる、とどける。'"
      ]
     },
     "execution_count": 4,
     "metadata": {},
     "output_type": "execute_result"
    }
   ],
   "source": [
    "driver.title"
   ]
  },
  {
   "cell_type": "code",
   "execution_count": 5,
   "metadata": {},
   "outputs": [
    {
     "data": {
      "text/plain": [
       "True"
      ]
     },
     "execution_count": 5,
     "metadata": {},
     "output_type": "execute_result"
    }
   ],
   "source": [
    "driver.save_screenshot('note-1.png')"
   ]
  },
  {
   "cell_type": "code",
   "execution_count": 6,
   "metadata": {},
   "outputs": [
    {
     "data": {
      "text/plain": [
       "True"
      ]
     },
     "execution_count": 6,
     "metadata": {},
     "output_type": "execute_result"
    }
   ],
   "source": [
    "driver.set_window_size(800, 600)\n",
    "driver.save_screenshot('note-2.png')"
   ]
  },
  {
   "cell_type": "code",
   "execution_count": 7,
   "metadata": {
    "collapsed": true
   },
   "outputs": [
    {
     "data": {
      "text/plain": [
       "[<selenium.webdriver.remote.webelement.WebElement (session=\"10ccb8a0-4955-11e8-ab33-d989b361562e\", element=\":wdc:1524749776972\")>,\n",
       " <selenium.webdriver.remote.webelement.WebElement (session=\"10ccb8a0-4955-11e8-ab33-d989b361562e\", element=\":wdc:1524749776973\")>,\n",
       " <selenium.webdriver.remote.webelement.WebElement (session=\"10ccb8a0-4955-11e8-ab33-d989b361562e\", element=\":wdc:1524749776974\")>,\n",
       " <selenium.webdriver.remote.webelement.WebElement (session=\"10ccb8a0-4955-11e8-ab33-d989b361562e\", element=\":wdc:1524749776975\")>,\n",
       " <selenium.webdriver.remote.webelement.WebElement (session=\"10ccb8a0-4955-11e8-ab33-d989b361562e\", element=\":wdc:1524749776976\")>,\n",
       " <selenium.webdriver.remote.webelement.WebElement (session=\"10ccb8a0-4955-11e8-ab33-d989b361562e\", element=\":wdc:1524749776977\")>]"
      ]
     },
     "execution_count": 7,
     "metadata": {},
     "output_type": "execute_result"
    }
   ],
   "source": [
    "driver.find_elements_by_css_selector('a.p-post--basic')"
   ]
  },
  {
   "cell_type": "code",
   "execution_count": 8,
   "metadata": {},
   "outputs": [],
   "source": [
    "# 最初のコンテンツのボックスに対応するa要素を取得。\n",
    "a = driver.find_elements_by_css_selector('a.p-post--basic')[0]"
   ]
  },
  {
   "cell_type": "code",
   "execution_count": 9,
   "metadata": {},
   "outputs": [
    {
     "data": {
      "text/plain": [
       "<selenium.webdriver.remote.webelement.WebElement (session=\"10ccb8a0-4955-11e8-ab33-d989b361562e\", element=\":wdc:1524749776972\")>"
      ]
     },
     "execution_count": 9,
     "metadata": {},
     "output_type": "execute_result"
    }
   ],
   "source": [
    "a"
   ]
  },
  {
   "cell_type": "code",
   "execution_count": 10,
   "metadata": {},
   "outputs": [
    {
     "data": {
      "text/plain": [
       "'https://note.mu/ume_nanminchamp/n/n1c25c652a617'"
      ]
     },
     "execution_count": 10,
     "metadata": {},
     "output_type": "execute_result"
    }
   ],
   "source": [
    "# WebElementオブジェクトのget_attribute()メソッドで属性を取得できる。\n",
    "a.get_attribute('href')"
   ]
  },
  {
   "cell_type": "code",
   "execution_count": 15,
   "metadata": {},
   "outputs": [
    {
     "data": {
      "text/plain": [
       "'父母会の会長をやって、いろいろスリム化してみたよ。'"
      ]
     },
     "execution_count": 15,
     "metadata": {},
     "output_type": "execute_result"
    }
   ],
   "source": [
    "# WebDriverクラスと同じようにfind_element_by_css_selector()メソッドなどのメソッドで\n",
    "# この要素内部の要素を取得できる。\n",
    "a.find_elements_by_css_selector('h4')[0].text  # タイトルを取得"
   ]
  },
  {
   "cell_type": "code",
   "execution_count": 16,
   "metadata": {},
   "outputs": [
    {
     "data": {
      "text/plain": [
       "'4月。\\n\\nみなさん進級進学おめでとうございます。この季節、親的にめんどくさいのが、PTAや父母会の役員決め。やりたかないけど、イヤだイヤだと逃げるのも角が立つ。...'"
      ]
     },
     "execution_count": 16,
     "metadata": {},
     "output_type": "execute_result"
    }
   ],
   "source": [
    "a.find_element_by_css_selector('.c-post__description').text  # 概要を取得"
   ]
  },
  {
   "cell_type": "code",
   "execution_count": null,
   "metadata": {},
   "outputs": [],
   "source": []
  }
 ],
 "metadata": {
  "kernelspec": {
   "display_name": "Python [conda env:py36con]",
   "language": "python",
   "name": "conda-env-py36con-py"
  },
  "language_info": {
   "codemirror_mode": {
    "name": "ipython",
    "version": 3
   },
   "file_extension": ".py",
   "mimetype": "text/x-python",
   "name": "python",
   "nbconvert_exporter": "python",
   "pygments_lexer": "ipython3",
   "version": "3.6.4"
  }
 },
 "nbformat": 4,
 "nbformat_minor": 2
}
