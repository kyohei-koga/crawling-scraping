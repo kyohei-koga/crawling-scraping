{
 "cells": [
  {
   "cell_type": "code",
   "execution_count": 2,
   "metadata": {},
   "outputs": [],
   "source": [
    "import sys\n",
    "import pandas as pd\n",
    "\n",
    "from apiclient.discovery import build\n",
    "from pymongo import MongoClient, DESCENDING"
   ]
  },
  {
   "cell_type": "code",
   "execution_count": 3,
   "metadata": {},
   "outputs": [],
   "source": [
    "# APIキーを取得する。\n",
    "api_youtube_info = pd.read_csv('api_youtube.csv', header=None, names=['name','value'])\n",
    "YOUTUBE_API_KEY = api_youtube_info.loc[0, 'value']"
   ]
  },
  {
   "cell_type": "code",
   "execution_count": 4,
   "metadata": {},
   "outputs": [],
   "source": [
    "def main():\n",
    "    \"\"\"\n",
    "    メインの処理\n",
    "    \"\"\"\n",
    "    \n",
    "    mongo_client = MongoClient('localhost', 27017)  # MongoDBのクライアントオブジェクトを作成する。\n",
    "    collection = mongo_client.youtube.videos  # youtubeデータベースのvideosコレクションを取得する。\n",
    "    collection.delete_many({})  # 既存のすべてのドキュメントを削除しておく。\n",
    "    \n",
    "    # 動画を検索し、ページ単位でアイテム一覧を保存する。\n",
    "    for items_per_page in search_videos('手芸'):\n",
    "        save_to_mongodb(collection, items_per_page)\n",
    "        \n",
    "    show_top_videos(collection)  # ビュー数の多い動画を表示する。"
   ]
  },
  {
   "cell_type": "code",
   "execution_count": 5,
   "metadata": {},
   "outputs": [],
   "source": [
    "def search_videos(query, max_pages=5):\n",
    "    \"\"\"\n",
    "    動画を検索して、ページ単位でlistをyieldする。\n",
    "    \"\"\"\n",
    "    youtube = build('youtube', 'v3', developerKey=YOUTUBE_API_KEY)  # YouTubeのAPIクライアントを組み立てる。\n",
    "    \n",
    "    # search.listメソッドで最初のページを取得するためのリクエストを得る。\n",
    "    search_request = youtube.search().list(part='id',  # search.listでは動画IDだけを取得できれば良い。\n",
    "                                           q=query,\n",
    "                                           type='video',\n",
    "                                           maxResults=50,)  # 1ページあたり最大50件の動画を取得する。\n",
    "    \n",
    "    # リクエストが有効、かつページ数がmax_pages以内の間、繰り返す\n",
    "    # ページ数を制限しているのは実行時間が長くなり過ぎないようにするためなので、\n",
    "    # 実際にもっと多くのページを取得しても良い\n",
    "    i = 0\n",
    "    while search_request and i < max_pages:\n",
    "        search_response = search_request.execute()  # リクエストを送信する。\n",
    "        video_ids = [item['id']['videoId'] for item in search_response['items']]  # 動画IDのリストを得る。\n",
    "        \n",
    "        #  videos.listメソッドで動画の詳細な情報を得る。\n",
    "        videos_response = youtube.videos().list(part='snippet,statistics',\n",
    "                                                id=','.join(video_ids)).execute()\n",
    "        \n",
    "        yield videos_response['items']  # ページに対応するitemsをyieldする。\n",
    "        \n",
    "        # list_next()メッソドで次のページを取得するためのリクエスト（次のページがない場合はNone）を得る。\n",
    "        search_request = youtube.search().list_next(search_request, search_response)\n",
    "        i += 1"
   ]
  },
  {
   "cell_type": "code",
   "execution_count": 11,
   "metadata": {},
   "outputs": [],
   "source": [
    "def save_to_mongodb(collection, items):\n",
    "    \"\"\"\n",
    "    MongoDBにアイテムのリストを保存する。\n",
    "    \"\"\"\n",
    "    # MongoDBに保存する前に、あとで使いやすいようにアイテムを書き換える。\n",
    "    for item in items:\n",
    "        item['_id'] = item['id']  # 各アイテムのid属性を_id属性として使う\n",
    "        \n",
    "        # statisticsに含まれるviewCountプロパティなどの値が文字列になっているので、数値に変換する。\n",
    "        for key, value in item['statistics'].items():\n",
    "            item['statistics'][key] = int(value)\n",
    "            \n",
    "    result = collection.insert_many(items)  # コレクションに挿入する。\n",
    "    print('Inserted {0} documents'.format(len(result.inserted_ids)), file=sys.stderr)"
   ]
  },
  {
   "cell_type": "code",
   "execution_count": 7,
   "metadata": {},
   "outputs": [],
   "source": [
    "def show_top_videos(collection):\n",
    "    \"\"\"\n",
    "    MongoDBのコレクション内でビュー数の上位5件を表示する。\n",
    "    \"\"\"\n",
    "    for item in collection.find().sort('statistics.viewCount', DESCENDING).limit(5):\n",
    "        print(item['statistics']['viewCount'], item['snippet']['title'])"
   ]
  },
  {
   "cell_type": "code",
   "execution_count": 12,
   "metadata": {},
   "outputs": [
    {
     "name": "stderr",
     "output_type": "stream",
     "text": [
      "Inserted 50 documents\n",
      "Inserted 50 documents\n",
      "Inserted 50 documents\n",
      "Inserted 50 documents\n"
     ]
    },
    {
     "name": "stdout",
     "output_type": "stream",
     "text": [
      "445574 #プチプラDIY ダイソーのスエード調手芸ひもが可愛すぎる！\n",
      "322465 縫わずに作る三角ポーチの作り方／ボンド 裁ほう上手を使用♪／内布ナシ\n",
      "231737 【まずはこれ！】基本のカゴの編み方。クラフトバンド（紙紐手芸）の作り方講座。\n",
      "177374 入園準備☆名前を刺繍する方法(アウトラインステッチ)【手芸】Embroidery\n",
      "177214 ゴムの結び方 処理方法 ブレスレット簡単作り方　リクエスト　広島手芸雑貨店「Leche れちぇ」\n"
     ]
    },
    {
     "name": "stderr",
     "output_type": "stream",
     "text": [
      "Inserted 50 documents\n"
     ]
    }
   ],
   "source": [
    "if __name__=='__main__':\n",
    "    main()"
   ]
  },
  {
   "cell_type": "code",
   "execution_count": null,
   "metadata": {},
   "outputs": [],
   "source": []
  }
 ],
 "metadata": {
  "kernelspec": {
   "display_name": "Python [conda env:py36con]",
   "language": "python",
   "name": "conda-env-py36con-py"
  },
  "language_info": {
   "codemirror_mode": {
    "name": "ipython",
    "version": 3
   },
   "file_extension": ".py",
   "mimetype": "text/x-python",
   "name": "python",
   "nbconvert_exporter": "python",
   "pygments_lexer": "ipython3",
   "version": "3.6.4"
  }
 },
 "nbformat": 4,
 "nbformat_minor": 2
}
