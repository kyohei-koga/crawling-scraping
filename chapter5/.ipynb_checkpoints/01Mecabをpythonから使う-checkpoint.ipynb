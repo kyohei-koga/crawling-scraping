{
 "cells": [
  {
   "cell_type": "code",
   "execution_count": 1,
   "metadata": {},
   "outputs": [],
   "source": [
    "import MeCab"
   ]
  },
  {
   "cell_type": "code",
   "execution_count": 2,
   "metadata": {},
   "outputs": [
    {
     "data": {
      "text/plain": [
       "'EOS\\n'"
      ]
     },
     "execution_count": 2,
     "metadata": {},
     "output_type": "execute_result"
    }
   ],
   "source": [
    "tagger = MeCab.Tagger()\n",
    "tagger.parse('') #これは.parseToNode()の不具合を回避するために必要。"
   ]
  },
  {
   "cell_type": "code",
   "execution_count": 5,
   "metadata": {},
   "outputs": [],
   "source": [
    "node = tagger.parseToNode('すもももももももものうち')"
   ]
  },
  {
   "cell_type": "code",
   "execution_count": 4,
   "metadata": {},
   "outputs": [
    {
     "name": "stdout",
     "output_type": "stream",
     "text": [
      " BOS/EOS,*,*,*,*,*,*,*,*\n",
      "すもも 名詞,一般,*,*,*,*,すもも,スモモ,スモモ\n",
      "も 助詞,係助詞,*,*,*,*,も,モ,モ\n",
      "もも 名詞,一般,*,*,*,*,もも,モモ,モモ\n",
      "も 助詞,係助詞,*,*,*,*,も,モ,モ\n",
      "もも 名詞,一般,*,*,*,*,もも,モモ,モモ\n",
      "の 助詞,連体化,*,*,*,*,の,ノ,ノ\n",
      "うち 名詞,非自立,副詞可能,*,*,*,うち,ウチ,ウチ\n",
      " BOS/EOS,*,*,*,*,*,*,*,*\n"
     ]
    }
   ],
   "source": [
    "while node:\n",
    "    #.surfaceは形態素の文字列、.featureは品詞などを含む文字列をそれぞれ表す。\n",
    "    print(node.surface, node.feature)\n",
    "    node = node.next #.nextで次のNodeを取得する"
   ]
  },
  {
   "cell_type": "code",
   "execution_count": null,
   "metadata": {},
   "outputs": [],
   "source": []
  }
 ],
 "metadata": {
  "kernelspec": {
   "display_name": "Python [conda env:py36con]",
   "language": "python",
   "name": "conda-env-py36con-py"
  },
  "language_info": {
   "codemirror_mode": {
    "name": "ipython",
    "version": 3
   },
   "file_extension": ".py",
   "mimetype": "text/x-python",
   "name": "python",
   "nbconvert_exporter": "python",
   "pygments_lexer": "ipython3",
   "version": "3.6.4"
  }
 },
 "nbformat": 4,
 "nbformat_minor": 2
}
