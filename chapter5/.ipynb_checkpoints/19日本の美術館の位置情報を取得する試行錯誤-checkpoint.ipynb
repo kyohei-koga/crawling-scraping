{
 "cells": [
  {
   "cell_type": "code",
   "execution_count": 1,
   "metadata": {},
   "outputs": [],
   "source": [
    "import sys\n",
    "from  SPARQLWrapper import SPARQLWrapper"
   ]
  },
  {
   "cell_type": "code",
   "execution_count": 2,
   "metadata": {},
   "outputs": [],
   "source": [
    "# SPARQLエンドポイントのURLを指定してインスタンスを作成する。\n",
    "sparql = SPARQLWrapper('http://ja.dbpedia.org/sparql')"
   ]
  },
  {
   "cell_type": "code",
   "execution_count": 12,
   "metadata": {},
   "outputs": [],
   "source": [
    "sparql.setQuery(r'''\n",
    "    SELECT * WHERE {\n",
    "    ?s rdf:type dbpedia-owl:Museum ;\n",
    "      prop-ja:所在地 ?address .\n",
    "    FILTER REGEX(?address, \"^\\\\p{Han}{2,3}[都道府県]\")\n",
    "    } ORDER BY ?s\n",
    "''') "
   ]
  },
  {
   "cell_type": "code",
   "execution_count": 13,
   "metadata": {},
   "outputs": [],
   "source": [
    "# 取得するフォーマットとしてjsonを指定\n",
    "sparql.setReturnFormat('json')"
   ]
  },
  {
   "cell_type": "code",
   "execution_count": 14,
   "metadata": {},
   "outputs": [],
   "source": [
    "# queryを実行し、convert()でレスポンスをパースしてdictを得る。\n",
    "response = sparql.query().convert()"
   ]
  },
  {
   "cell_type": "raw",
   "metadata": {},
   "source": []
  }
 ],
 "metadata": {
  "kernelspec": {
   "display_name": "Python [conda env:py36con]",
   "language": "python",
   "name": "conda-env-py36con-py"
  },
  "language_info": {
   "codemirror_mode": {
    "name": "ipython",
    "version": 3
   },
   "file_extension": ".py",
   "mimetype": "text/x-python",
   "name": "python",
   "nbconvert_exporter": "python",
   "pygments_lexer": "ipython3",
   "version": "3.6.4"
  }
 },
 "nbformat": 4,
 "nbformat_minor": 2
}
