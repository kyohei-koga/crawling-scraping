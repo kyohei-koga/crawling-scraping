{
 "cells": [
  {
   "cell_type": "code",
   "execution_count": 1,
   "metadata": {},
   "outputs": [],
   "source": [
    "import pandas as pd\n",
    "import tweepy"
   ]
  },
  {
   "cell_type": "code",
   "execution_count": 6,
   "metadata": {},
   "outputs": [],
   "source": [
    "# 認証情報を取得する。\n",
    "api_info = pd.read_csv('api.csv', header=None, names=['name','value'])\n",
    "CONSUMER_KEY = api_info.loc[0, 'value']\n",
    "CONSUMER_SECRET = api_info.loc[1, 'value']\n",
    "ACCESS_TOKEN = api_info.loc[2, 'value']\n",
    "ACCESS_TOKEN_SECRET = api_info.loc[3, 'value']"
   ]
  },
  {
   "cell_type": "code",
   "execution_count": 7,
   "metadata": {},
   "outputs": [],
   "source": [
    "# 認証情報を設定する。\n",
    "auth = tweepy.OAuthHandler(CONSUMER_KEY, CONSUMER_SECRET)\n",
    "auth.set_access_token(ACCESS_TOKEN, ACCESS_TOKEN_SECRET)"
   ]
  },
  {
   "cell_type": "code",
   "execution_count": 8,
   "metadata": {},
   "outputs": [],
   "source": [
    "api = tweepy.API(auth) # APIクライアントを取得する\n",
    "public_tweets = api.home_timeline() # ユーザーのタイムラインを取得する。"
   ]
  },
  {
   "cell_type": "code",
   "execution_count": 9,
   "metadata": {},
   "outputs": [
    {
     "name": "stdout",
     "output_type": "stream",
     "text": [
      "@kirik RT @mikamiyoh: なんと最初はいちや先生のビデオメッセージ。炎上ぎみの私が発言するのも何ですが、という一言から。 #ブロッキング0422 https://t.co/fZDi3qZ9yD\n",
      "@kirik RT @nasakawa: 参加・聴講中。どなたかが権利者側の意見を（形式的にでも）代弁して議論を深めてくれることに期待。これだけの論客がいて「緊急避難ブロッキングはダメ」の結論しかでないのはもったいない。 #ブロッキング0422\n",
      "@kirik RT @tb_bot: これが村井先生がゆってた知の集結。すごい。 #ブロッキング0422 https://t.co/TZE3sbdAn9\n",
      "@kirik 申し訳ございませんでした https://t.co/j9QcjLjCj9\n",
      "@sasakitoshinao RT @hirok10ka: これ凄くわかります。\n",
      "少しでも接点がある人とは、こちらが少しでも相手に与えることができる何かがあれば仕事にも繋がったりします。 / 【佐々木俊尚】現代を生きるコツは「広く弱くつながること」 #NewsPicks https://t.co/zqOWR…\n",
      "@kirik RT @gnutar: 「オープンかつ十分な議論をしてきた」→してません 「総務省がブロッキングを認めている」→いません 「政府が法的リスクを負っている」→いません 「ブロッキング以外の方法はない」→あります 「既に数千億円の被害がある」→本当ですか？ #ブロッキング0422\n",
      "@kirik RT @yuhkun: 中村伊知哉氏のいう「政府は法解釈を示しただけ」って認識がいろいろ間違ってることがよくわかる。\n",
      "そもそも「緊急避難にあたるなら違法性が阻却される、とは言ったがこの件が緊急避難にあたるとは言ってない」なのだし。\n",
      " #ブロッキング0422\n",
      "@nikkei 首相「拉致問題前進させたい」　被害者家族と面会 https://t.co/Xf8exKnWNA\n",
      "@yusuke_tsugawa RT @jasminjoy: 「免疫力アップ」と「ホルモンバランスを整える」はニセ医学を見分けるポイント。出てきたらそこから先は読む必要なし。私の経験上。 https://t.co/borcxe89iC\n",
      "@yusuke_tsugawa RT @kanmani: 経済学の本というよりも、相関関係と因果関係が違うと体感できる本ですな。データを少しでも取り扱うことのある社会人は要必読ですな。 https://t.co/YjtfTSXaLJ 中室 牧子 の 「原因と結果」の経済学―――データから真実を見抜く思考法\n",
      "@hamukazu RT @uno_kore: これ、警察の公式リリースだぜ？ 酷すぎる\n",
      "\n",
      "■不審者の特徴\n",
      "・年齢２０歳代、黒と白色のパーカー、黄土色ズボン、メガネを掛け、黒色リュックサックを背負った小柄で、星野源に似た男 https://t.co/ky4nEXkhOB\n",
      "@WSJJapan 銃の未来開く「スマートガン」、なぜ敬遠される https://t.co/Azf8n5BLVe\n",
      "@eigotan_S 【解答】①「真剣さを保つ（＝笑わないでいる）」②「事態の重大性」ね。こういうのは、慣れれば別に多義語として覚えるってほどのものでもないわ。「重」っていう漢字を重要にも重力にも使うしね。★★★☆☆\n",
      "@stattan RT @chemarble: マサチューセッツ工科大学前の通り、道端からカフェインが生えてるんだけど… https://t.co/x9IK6XeMLY\n",
      "@stattan RT @mnishi41: もともとは、弟弟子と組手をする際、打ち出す手に注目してしまう弟弟子に、\n",
      "「Don’t think. feel！ It’s like a finger pointing away to the moon.」と言って、\n",
      "「月を指差す時は指でなく月を見るだ…\n",
      "@stattan RT @mnishi41: 「燃えよドラゴン」の「don't think, feel」という有名なセリフは「直感を信じよ」という意味ではない。本編を見れば、「目標設定を誤るな」「修練そのものに囚われるな」という意味だとわかる。(以前も書きましたけど)\n",
      "@Reuters_co_jp ＮＢＡ＝ペリカンズ、4連勝でカンファレンス準決勝へ  https://t.co/G7VAzAH2U1\n",
      "@stattan RT @Iari0a: 【セクハラ】\n",
      "おっさんの思うセクハラ基準\n",
      "・性的な発言をした\n",
      "\n",
      "・彼氏がいるか聞いた\n",
      "\n",
      "・不愉快な思いをさせた\n",
      "\n",
      "女性の思うセクハラ基準\n",
      "・おっさんが話しかけてきた\n",
      "\n",
      "・おっさんに彼氏がいるか聞かれた\n",
      "\n",
      "・おっさんが不愉快\n",
      "\n",
      "・おっさん\n",
      "@yusuke_tsugawa RT @art_infoJP: ４月２９日（日曜）朝刊で紹介する予定の本: 津川友介著『世界一シンプルで科学的に証明された究極の食事』 （東洋経済新報社）. 樋田毅著『記者襲撃 赤報隊事件３０年目の真実』 （岩波書店）. 小崎哲哉著『現代アートとは何か』 （河出書房新社）.……\n",
      "@kirik 中村伊知哉せんせの緊急メッセージビデオが場内の激しい失笑を買ってしまっていることに、強い残念な気持ちを禁じ得ない https://t.co/CUI5ZTfHzi\n"
     ]
    }
   ],
   "source": [
    "for status in public_tweets:\n",
    "    print('@' + status.user.screen_name, status.text) # ユーザー名とツイートを表示する。"
   ]
  },
  {
   "cell_type": "code",
   "execution_count": null,
   "metadata": {},
   "outputs": [],
   "source": []
  }
 ],
 "metadata": {
  "kernelspec": {
   "display_name": "Python 3",
   "language": "python",
   "name": "python3"
  },
  "language_info": {
   "codemirror_mode": {
    "name": "ipython",
    "version": 3
   },
   "file_extension": ".py",
   "mimetype": "text/x-python",
   "name": "python",
   "nbconvert_exporter": "python",
   "pygments_lexer": "ipython3",
   "version": "3.6.4"
  }
 },
 "nbformat": 4,
 "nbformat_minor": 2
}
