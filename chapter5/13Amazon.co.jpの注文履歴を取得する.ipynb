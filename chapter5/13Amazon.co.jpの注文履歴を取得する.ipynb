{
 "cells": [
  {
   "cell_type": "code",
   "execution_count": 6,
   "metadata": {},
   "outputs": [],
   "source": [
    "import os\n",
    "import sys\n",
    "import pandas as pd\n",
    "from robobrowser import RoboBrowser"
   ]
  },
  {
   "cell_type": "code",
   "execution_count": 61,
   "metadata": {},
   "outputs": [],
   "source": [
    "# 認証情報の取得\n",
    "email = pd.read_csv('amazon_login.csv', header=None, names=['name','value'])\n",
    "AMAZON_EMAIL = email.loc[0, 'value']\n",
    "AMAZON_PASSWORD = email.loc[1, 'value']"
   ]
  },
  {
   "cell_type": "code",
   "execution_count": 62,
   "metadata": {},
   "outputs": [],
   "source": [
    "# RoboBrowserオブジェクトを作成する。\n",
    "browser = RoboBrowser(\n",
    "    parser = 'html.parser',  # Beautiful Soupで使用するパーサーを指定する。\n",
    "    # Cookieが使用できないと表示されたログインできない問題を回避するため、\n",
    "    # 通常のブラウザーのUser-Agent(ここではFirefoxのもの)を使う。\n",
    "    user_agent='Mozilla/5.0 (X11; Ubuntu; Linux x86_64; rv:58.0) Gecko/20100101 Firefox/58.0')"
   ]
  },
  {
   "cell_type": "code",
   "execution_count": 63,
   "metadata": {},
   "outputs": [],
   "source": [
    "def main():\n",
    "    # 注文履歴のページを開く。\n",
    "    print('Navigating...', file=sys.stderr)\n",
    "    browser.open('https://www.amazon.co.jp/gp/css/order-history')\n",
    "    \n",
    "    # サインページにリダイレクトされていることを確認する。\n",
    "    assert 'Amazonサインイン' in browser.parsed.title.string\n",
    "    \n",
    "    # name='singIn'というサインフォームを埋める。\n",
    "    # フォームのname属性の値はブラウザーの開発者ツールで確認できる。\n",
    "    form = browser.get_form()\n",
    "    form['email'] = AMAZON_EMAIL  # name='email'というボックスを埋める。\n",
    "    form['password'] = AMAZON_PASSWORD  # name='password'という入力ボックスを埋める。\n",
    "    \n",
    "    # フォームを送信する。正常にログインするにはRefereヘッダーとAccept-Languageヘッダーが必要。\n",
    "    print('Sign in...', file=sys.stderr)\n",
    "    browser.submit_form(form, headers={\n",
    "        'Referer':browser.url,\n",
    "        'Accept-Language':'ja,en-US;q=0.7,en;q=0.3'\n",
    "    })\n",
    "    \n",
    "    # ログインに失敗する場合は、次の行のコメントを外してHTMLのソースを確認すると良い。\n",
    "    # print(browser.parsed.prettify())\n",
    "    \n",
    "    # ページャーをたどる。\n",
    "    while True:\n",
    "        assert '注文履歴' in browser.parsed.title.string  # 注文履歴画面が表示されていることを確認する。\n",
    "        \n",
    "        print_order_history()  # 注文履歴を表示する。\n",
    "        \n",
    "        link_to_next = browser.get_link('次へ')  # 「次へ」というテキストを持つリンクを取得する。\n",
    "        if not link_to_next:\n",
    "            break  # 「次へ」のリンクがない場合はループを抜けて終了する。\n",
    "        \n",
    "        print('Following link to next page...', file=sys.stderr)\n",
    "        browser.follow_link(link_to_next)  # 「次へ」というリンクをたどる。"
   ]
  },
  {
   "cell_type": "code",
   "execution_count": 64,
   "metadata": {},
   "outputs": [],
   "source": [
    "def print_order_history():\n",
    "    \"\"\"\n",
    "    現在のページの全ての注文履歴を表示する。\n",
    "    \"\"\"\n",
    "    # ページ内の全ての注文履歴について反復する。ブラウザーの開発者ツールでclass属性の値を確認できる。\n",
    "    for line_item in browser.select('.order-info'):\n",
    "        order = {}  # 注文の情報を格納するためのdict。\n",
    "        # 注文の情報の全ての列について反復する。\n",
    "        for column in line_item.select('.a-column'):\n",
    "            label_element = column.select_one('.label')\n",
    "            value_element = column.select_one('.value')\n",
    "            # ラベルと値がない列は無視する。\n",
    "            if label_element and value_element:\n",
    "                label = label_element.get_text().strip()\n",
    "                value = value_element.get_text().strip()\n",
    "                order[label] = value  # 注文の情報を格納する。\n",
    "                \n",
    "        print(order['注文日'], order['合計'])  # 注文の情報を表示する。\n",
    "    "
   ]
  },
  {
   "cell_type": "code",
   "execution_count": 65,
   "metadata": {
    "scrolled": true
   },
   "outputs": [
    {
     "name": "stderr",
     "output_type": "stream",
     "text": [
      "Navigating...\n",
      "Sign in...\n"
     ]
    },
    {
     "name": "stdout",
     "output_type": "stream",
     "text": [
      "2018年4月22日 ￥ 1,567\n",
      "2018年4月15日 ￥ 842\n",
      "2018年4月14日 ￥ 4,104\n",
      "2018年4月13日 ￥ 1,944\n",
      "2018年4月13日 ￥ 3,024\n",
      "2018年4月13日 ￥ 3,024\n",
      "2018年4月12日 ￥ 0\n",
      "2018年4月11日 ￥ 3,269\n",
      "2018年4月9日 ￥ 2,862\n",
      "2018年4月8日 ￥ 12,096\n"
     ]
    },
    {
     "name": "stderr",
     "output_type": "stream",
     "text": [
      "Following link to next page...\n"
     ]
    },
    {
     "name": "stdout",
     "output_type": "stream",
     "text": [
      "2018年4月8日 ￥ 6,242\n",
      "2018年4月6日 ￥ 3,748\n",
      "2018年4月3日 ￥ 3,024\n",
      "2018年4月3日 ￥ 565\n",
      "2018年3月28日 ￥ 7,344\n",
      "2018年3月28日 ￥ 8,316\n",
      "2018年3月26日 ￥ 1,296\n",
      "2018年3月26日 ￥ 1,567\n",
      "2018年3月26日 ￥ 5,141\n",
      "2018年3月26日 ￥ 4,860\n"
     ]
    },
    {
     "name": "stderr",
     "output_type": "stream",
     "text": [
      "Following link to next page...\n"
     ]
    },
    {
     "name": "stdout",
     "output_type": "stream",
     "text": [
      "2018年3月25日 ￥ 3,240\n",
      "2018年3月25日 ￥ 9,720\n",
      "2018年3月23日 ￥ 2,160\n",
      "2018年3月23日 ￥ 17,964\n",
      "2018年3月23日 ￥ 3,240\n",
      "2018年3月23日 ￥ 2,376\n",
      "2018年3月20日 ￥ 4,968\n",
      "2018年3月20日 ￥ 3,888\n",
      "2018年3月20日 ￥ 3,024\n",
      "2018年3月13日 ￥ 0\n"
     ]
    },
    {
     "name": "stderr",
     "output_type": "stream",
     "text": [
      "Following link to next page...\n"
     ]
    },
    {
     "name": "stdout",
     "output_type": "stream",
     "text": [
      "2018年3月9日 ￥ 1,296\n",
      "2018年3月6日 ￥ 3,748\n",
      "2018年2月23日 ￥ 1,567\n",
      "2018年2月22日 ￥ 0\n",
      "2018年2月6日 ￥ 3,748\n",
      "2018年1月26日 ￥ 1,377\n",
      "2018年1月20日 ￥ 2,916\n",
      "2018年1月18日 ￥ 3,910\n",
      "2018年1月17日 ￥ 3,888\n",
      "2018年1月6日 ￥ 3,748\n"
     ]
    },
    {
     "name": "stderr",
     "output_type": "stream",
     "text": [
      "Following link to next page...\n"
     ]
    },
    {
     "name": "stdout",
     "output_type": "stream",
     "text": [
      "2018年1月3日 ￥ 6,598\n",
      "2017年12月29日 ￥ 1,511\n",
      "2017年12月27日 ￥ 3,456\n",
      "2017年12月27日 ￥ 1,182\n",
      "2017年12月26日 ￥ 1,377\n",
      "2017年12月25日 ￥ 4,290\n",
      "2017年12月12日 ￥ 994\n",
      "2017年11月26日 ￥ 1,187\n",
      "2017年11月25日 ￥ 1,472\n",
      "2017年11月19日 ￥ 1,393\n"
     ]
    },
    {
     "name": "stderr",
     "output_type": "stream",
     "text": [
      "Following link to next page...\n"
     ]
    },
    {
     "name": "stdout",
     "output_type": "stream",
     "text": [
      "2017年11月18日 ￥ 3,748\n",
      "2017年11月12日 ￥ 1,187\n",
      "2017年11月7日 ￥ 1,836\n",
      "2017年11月3日 ￥ 623\n",
      "2017年11月2日 ￥ 2,766\n",
      "2017年10月28日 ￥ 1,420\n"
     ]
    }
   ],
   "source": [
    "if __name__=='__main__':\n",
    "    main()"
   ]
  },
  {
   "cell_type": "code",
   "execution_count": null,
   "metadata": {},
   "outputs": [],
   "source": []
  }
 ],
 "metadata": {
  "kernelspec": {
   "display_name": "Python [conda env:py36con]",
   "language": "python",
   "name": "conda-env-py36con-py"
  },
  "language_info": {
   "codemirror_mode": {
    "name": "ipython",
    "version": 3
   },
   "file_extension": ".py",
   "mimetype": "text/x-python",
   "name": "python",
   "nbconvert_exporter": "python",
   "pygments_lexer": "ipython3",
   "version": "3.6.4"
  }
 },
 "nbformat": 4,
 "nbformat_minor": 2
}
