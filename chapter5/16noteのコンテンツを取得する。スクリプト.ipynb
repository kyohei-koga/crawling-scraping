{
 "cells": [
  {
   "cell_type": "code",
   "execution_count": 1,
   "metadata": {},
   "outputs": [],
   "source": [
    "import sys"
   ]
  },
  {
   "cell_type": "code",
   "execution_count": 2,
   "metadata": {},
   "outputs": [],
   "source": [
    "from selenium import webdriver"
   ]
  },
  {
   "cell_type": "code",
   "execution_count": 3,
   "metadata": {},
   "outputs": [],
   "source": [
    "def main():\n",
    "    \"\"\"\n",
    "    メインの処理\n",
    "    \"\"\"\n",
    "    \n",
    "    driver = webdriver.PhantomJS()  # PhantomJSのWebDriverオブジェクトを作成する。\n",
    "    driver.set_window_size(800, 600)  # ウィンドウサイズを設定する。\n",
    "    \n",
    "    navigate(driver)  # noteのトップページに遷移する。\n",
    "    posts = scrape_posts(driver)  # 文章コンテンツのリストを取得する。\n",
    "    \n",
    "    # コンテンツの情報を表示する。\n",
    "    for post in posts:\n",
    "        print(post)"
   ]
  },
  {
   "cell_type": "code",
   "execution_count": 4,
   "metadata": {},
   "outputs": [],
   "source": [
    "def navigate(driver):\n",
    "    \"\"\"\n",
    "    目的のページに遷移する。\n",
    "    \"\"\"\n",
    "    print('Navigating...', file=sys.stderr)\n",
    "    driver.get('https://note.mu/')  # noteのトップページを開く。\n",
    "    assert 'note' in driver.title  # タイトルに'note'が含まれていることを確認する。"
   ]
  },
  {
   "cell_type": "code",
   "execution_count": 7,
   "metadata": {},
   "outputs": [],
   "source": [
    "def scrape_posts(driver):\n",
    "    \"\"\"\n",
    "    文章コンテンツのURL、タイトル、概要を含むdictのリストを取得する。\n",
    "    \"\"\"\n",
    "    \n",
    "    posts = []\n",
    "    \n",
    "    # 全ての文章コンテンツを表すa要素について反復する。\n",
    "    for a in driver.find_elements_by_css_selector('a.p-post--basic'):\n",
    "        # URL,タイトル、概要を取得して、dictとしてリストに追加する。\n",
    "        posts.append({\n",
    "            'url':a.get_attribute('href'),\n",
    "            'title':a.find_element_by_css_selector('h4').text,\n",
    "            'description':a.find_element_by_css_selector('.c-post__description').text,\n",
    "        })\n",
    "        \n",
    "    return posts"
   ]
  },
  {
   "cell_type": "code",
   "execution_count": 8,
   "metadata": {},
   "outputs": [
    {
     "name": "stderr",
     "output_type": "stream",
     "text": [
      "/home/kyohei/anaconda2/envs/py36con/lib/python3.6/site-packages/selenium/webdriver/phantomjs/webdriver.py:49: UserWarning: Selenium support for PhantomJS has been deprecated, please use headless versions of Chrome or Firefox instead\n",
      "  warnings.warn('Selenium support for PhantomJS has been deprecated, please use headless '\n",
      "Navigating...\n"
     ]
    },
    {
     "name": "stdout",
     "output_type": "stream",
     "text": [
      "{'url': 'https://note.mu/ume_nanminchamp/n/n1c25c652a617', 'title': '父母会の会長をやって、いろいろスリム化してみたよ。', 'description': '4月。\\n\\nみなさん進級進学おめでとうございます。この季節、親的にめんどくさいのが、PTAや父母会の役員決め。やりたかないけど、イヤだイヤだと逃げるのも角が立つ。\\n...'}\n",
      "{'url': 'https://data.thebase.in/n/n8f9ecc5a3281', 'title': '日時によっては3.2倍の売上も？ ネットショップで商品が一番売れる日時を調べてみた。', 'description': 'こんにちは、BASEデータストラテジー（Data Strategy）チームです。\\n\\nBASEデータストラテジーでは、ネットショップ作成サービス「BASE」において日々増加していく各種データを活用する...'}\n",
      "{'url': 'https://note.mu/ekakinonakagawa/n/n3f0722862164', 'title': '1冊の絵本が出来るまで', 'description': '一昨年に初めての絵本を出版して去年2冊。今年も新しい絵本を2冊作っています。\\nイラストの仕事を10年以上やって来たんですが\\n同じ絵を描くのでも絵本はまた全然違いますね。\\nまったく違う種類の面白さがあります。...'}\n",
      "{'url': 'https://note.mu/5696/n/n024bf44567fe', 'title': '「Crème au citron」', 'description': '「レモンクリーム」や「レモンカード」と呼ばれる、スコーンやパンにつけるクリームです。まだ、春の黄色い国産レモンがあると思います。少量でもいいように濃厚なクリームにするのもいいですし、たっぷりつけられるように軽い仕上がりにするのもいい。どんなものにどのように使うかで好みになるように配合でき...'}\n",
      "{'url': 'https://note.mu/cyzo/n/n69f3897aaa88', 'title': '日本だけが取り残されている？――アジアン・ラッパーを世界に輩出！\\u3000動画チャンネル「88rising」の正体', 'description': '——「88rising」というYouTubeチャンネルを知っているだろうか？ 今、そこから配信されるラッパーをはじめとしたアジア人アーティストのMVが世界的にバズり、彼らはアメリカの音楽市場で続々と成功を収めている。このメディアの実態を、LA在住の音楽ライターであるバルーチャ・ハシム廣太郎がレポート！\\n...'}\n",
      "{'url': 'https://note.mu/infinitcrystalm/n/n67a1f1d5874c', 'title': '「物事に張り付いている意味」を取り払って、ただ対象に向き合う・観察する', 'description': '【日々の石写真】と題して、１日１回インスタグラムに石の写真を投稿することをはじめて、かれこれ５ヶ月が過ぎております…\\nこの行為を続けてみて、自分の中で本っ当にいろいろな発見があります。\\nそのことについて書いてみようと思います。...'}\n"
     ]
    }
   ],
   "source": [
    "if __name__=='__main__':\n",
    "    main()"
   ]
  },
  {
   "cell_type": "code",
   "execution_count": null,
   "metadata": {},
   "outputs": [],
   "source": []
  }
 ],
 "metadata": {
  "kernelspec": {
   "display_name": "Python [conda env:py36con]",
   "language": "python",
   "name": "conda-env-py36con-py"
  },
  "language_info": {
   "codemirror_mode": {
    "name": "ipython",
    "version": 3
   },
   "file_extension": ".py",
   "mimetype": "text/x-python",
   "name": "python",
   "nbconvert_exporter": "python",
   "pygments_lexer": "ipython3",
   "version": "3.6.4"
  }
 },
 "nbformat": 4,
 "nbformat_minor": 2
}
