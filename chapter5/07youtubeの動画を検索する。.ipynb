{
 "cells": [
  {
   "cell_type": "code",
   "execution_count": 1,
   "metadata": {},
   "outputs": [],
   "source": [
    "import pandas as pd\n",
    "from apiclient.discovery import build"
   ]
  },
  {
   "cell_type": "code",
   "execution_count": 3,
   "metadata": {},
   "outputs": [],
   "source": [
    "#APIキーを取得する。\n",
    "api_youtube_info = pd.read_csv('api_youtube.csv', header=None, names=['name', 'value'])\n",
    "YOUTUBE_API_KEY = api_youtube_info.loc[0, 'value']"
   ]
  },
  {
   "cell_type": "code",
   "execution_count": 5,
   "metadata": {},
   "outputs": [],
   "source": [
    "# YouTubeのAPIクライアントを組み立てる。build()関数の第一引数にはAPI名を、\n",
    "# 第二引数にはAPIのバージョンを指定し、キーワード引数developerKeyでAPIキーを指定する。\n",
    "# この関数は、内部的にhttps://www.googleapis.com/discovery/v1/apis/youtube/v3/restという\n",
    "# URLにアクセし、APIのリソースやメソッドの情報を取得する。\n",
    "youtube = build('youtube', 'v3', developerKey=YOUTUBE_API_KEY)"
   ]
  },
  {
   "cell_type": "code",
   "execution_count": 6,
   "metadata": {},
   "outputs": [],
   "source": [
    "# キーワード引数で引数を指定し、search.listメソッドを呼び出す。\n",
    "# list()メソッドでgoogleapiclient.http.HttpRequextオブジェクトが得られ、\n",
    "# execute()メッソドを実行すると実際にHTTPリクエストが送られて、APIのレスポンスが得られる。\n",
    "search_response = youtube.search().list(part='snippet',\n",
    "                                        q='手芸',\n",
    "                                        type='video',\n",
    "                                        ).execute()"
   ]
  },
  {
   "cell_type": "code",
   "execution_count": 7,
   "metadata": {},
   "outputs": [
    {
     "name": "stdout",
     "output_type": "stream",
     "text": [
      "ヒルナンデス！秋冬にピッタリ！最新　手芸グッズ＆簡単作り方\n",
      "ヒルナンデス【キャシー中島が手芸の神ワザ伝授】171019\n",
      "#プチプラDIY ダイソーのスエード調手芸ひもが可愛すぎる！\n",
      "バラエティ初登場!! ついに神の神髄が…!? 手芸歴40年の光浦の手芸愛は必見!! 10/9(月)『オー!! マイ神様!!』【TBS】\n",
      "ビーズボールの作り方／広島 あとりえChikuTaku(ちくたくの手芸塾)\n"
     ]
    }
   ],
   "source": [
    "# search_responseはAPIのレスポンスのJSONをパースしたdict。\n",
    "for item in search_response['items']:\n",
    "    print(item['snippet']['title'])  # 動画のタイトルを表示する。"
   ]
  },
  {
   "cell_type": "code",
   "execution_count": null,
   "metadata": {},
   "outputs": [],
   "source": []
  }
 ],
 "metadata": {
  "kernelspec": {
   "display_name": "Python [conda env:py36con]",
   "language": "python",
   "name": "conda-env-py36con-py"
  },
  "language_info": {
   "codemirror_mode": {
    "name": "ipython",
    "version": 3
   },
   "file_extension": ".py",
   "mimetype": "text/x-python",
   "name": "python",
   "nbconvert_exporter": "python",
   "pygments_lexer": "ipython3",
   "version": "3.6.4"
  }
 },
 "nbformat": 4,
 "nbformat_minor": 2
}
