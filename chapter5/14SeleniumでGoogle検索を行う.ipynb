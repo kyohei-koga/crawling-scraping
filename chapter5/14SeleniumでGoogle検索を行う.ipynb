{
 "cells": [
  {
   "cell_type": "code",
   "execution_count": 1,
   "metadata": {},
   "outputs": [],
   "source": [
    "from selenium import webdriver\n",
    "from selenium.webdriver.common.keys import Keys"
   ]
  },
  {
   "cell_type": "code",
   "execution_count": 2,
   "metadata": {},
   "outputs": [
    {
     "name": "stderr",
     "output_type": "stream",
     "text": [
      "/home/kyohei/anaconda2/envs/py36con/lib/python3.6/site-packages/selenium/webdriver/phantomjs/webdriver.py:49: UserWarning: Selenium support for PhantomJS has been deprecated, please use headless versions of Chrome or Firefox instead\n",
      "  warnings.warn('Selenium support for PhantomJS has been deprecated, please use headless '\n"
     ]
    }
   ],
   "source": [
    "# PhantomJSのWebDriverオブジェクトを作成する。\n",
    "driver = webdriver.PhantomJS()"
   ]
  },
  {
   "cell_type": "code",
   "execution_count": 3,
   "metadata": {},
   "outputs": [],
   "source": [
    "# Googleのトップ画面を開く。\n",
    "driver.get('https://www.google.co.jp/')"
   ]
  },
  {
   "cell_type": "code",
   "execution_count": 4,
   "metadata": {},
   "outputs": [],
   "source": [
    "# タイトルに'Google'が含まれていることを確認する。\n",
    "assert 'Google' in driver.title"
   ]
  },
  {
   "cell_type": "code",
   "execution_count": 5,
   "metadata": {},
   "outputs": [],
   "source": [
    "# 検索語を入力して送信する。\n",
    "input_element = driver.find_element_by_name('q')\n",
    "input_element.send_keys('Python')\n",
    "input_element.send_keys(Keys.RETURN)"
   ]
  },
  {
   "cell_type": "code",
   "execution_count": 6,
   "metadata": {},
   "outputs": [],
   "source": [
    "# タイトルに'Python'が含まれていることを確認する。\n",
    "assert 'Python' in driver.title"
   ]
  },
  {
   "cell_type": "code",
   "execution_count": 7,
   "metadata": {},
   "outputs": [
    {
     "data": {
      "text/plain": [
       "True"
      ]
     },
     "execution_count": 7,
     "metadata": {},
     "output_type": "execute_result"
    }
   ],
   "source": [
    "# スクリーンショットを撮る。\n",
    "driver.save_screenshot('search_results.png')"
   ]
  },
  {
   "cell_type": "code",
   "execution_count": 8,
   "metadata": {},
   "outputs": [
    {
     "name": "stdout",
     "output_type": "stream",
     "text": [
      "専門知識いらず！Pythonとは？言語の特徴から網羅的に徹底解説 | 侍 ...\n",
      "https://www.google.co.jp/url?q=https://www.sejuku.net/blog/7720&sa=U&ved=0ahUKEwiVtYm_gtjaAhXKbrwKHYn4B1kQFggUMAA&usg=AOvVaw08IMbcwwW92kTSNf9a3Z96\n",
      "Python - ウィキペディア\n",
      "https://www.google.co.jp/url?q=https://ja.wikipedia.org/wiki/Python&sa=U&ved=0ahUKEwiVtYm_gtjaAhXKbrwKHYn4B1kQFggeMAE&usg=AOvVaw34fkpJMkpzTjcEU6R9pWUD\n",
      "Welcome to Python.org\n",
      "https://www.google.co.jp/url?q=https://www.python.org/&sa=U&ved=0ahUKEwiVtYm_gtjaAhXKbrwKHYn4B1kQFggpMAI&usg=AOvVaw3a31mp2ZxFaMMXvkKdAo1C\n",
      "Pythonとは？特徴やできること、ダウンロード方法と文法を解説 | TECH ...\n",
      "https://www.google.co.jp/url?q=https://tech-camp.in/note/technology/33753/&sa=U&ved=0ahUKEwiVtYm_gtjaAhXKbrwKHYn4B1kQFgg0MAM&usg=AOvVaw0Zy2_QDZfJi5p7XYewr7FE\n",
      "PyQ - 本気でプログラミングを学びたい人のPythonオンライン学習サービス\n",
      "https://www.google.co.jp/url?q=https://pyq.jp/&sa=U&ved=0ahUKEwiVtYm_gtjaAhXKbrwKHYn4B1kQFgg6MAQ&usg=AOvVaw1N-6Z-SdaDcot8uKDbUqVV\n",
      "Python基礎講座(1 Pythonとは) - Qiita\n",
      "https://www.google.co.jp/url?q=https://qiita.com/Usek/items/ff4d87745dfc5d9b85a4&sa=U&ved=0ahUKEwiVtYm_gtjaAhXKbrwKHYn4B1kQFghAMAU&usg=AOvVaw3rtjJ-BzxhrTQ7xYMceRvb\n",
      "Pythonのテキスト作りました - Qiita\n",
      "https://www.google.co.jp/url?q=https://qiita.com/KatsunoriNakamura/items/b465b0cf05b1b7fd4975&sa=U&ved=0ahUKEwiVtYm_gtjaAhXKbrwKHYn4B1kQFghHMAY&usg=AOvVaw3k9s-uXZUVGM2KSn56AXpc\n",
      "Top - python.jp\n",
      "https://www.google.co.jp/url?q=https://www.python.jp/&sa=U&ved=0ahUKEwiVtYm_gtjaAhXKbrwKHYn4B1kQFghMMAc&usg=AOvVaw2Qt7lC-cdzDJQaVvB50GuY\n",
      "Pythonとは？何に使えるの？Pythonの特徴や使い道を…｜Udemy ...\n",
      "https://www.google.co.jp/url?q=https://udemy.benesse.co.jp/development/python.html&sa=U&ved=0ahUKEwiVtYm_gtjaAhXKbrwKHYn4B1kQFghSMAg&usg=AOvVaw0RPFjpGNNm1ckjr9ov-Wmr\n",
      "今さら聞けない！Pythonとは【初心者向け】 | TechAcademyマガジン\n",
      "https://www.google.co.jp/url?q=https://techacademy.jp/magazine/15507&sa=U&ved=0ahUKEwiVtYm_gtjaAhXKbrwKHYn4B1kQFghYMAk&usg=AOvVaw0Vf3SNNT-JD6oK1FOde_3r\n"
     ]
    }
   ],
   "source": [
    "# 検索結果を表示する。\n",
    "for a in driver.find_elements_by_css_selector('h3 > a'):\n",
    "    print(a.text)\n",
    "    print(a.get_attribute('href'))"
   ]
  },
  {
   "cell_type": "code",
   "execution_count": null,
   "metadata": {},
   "outputs": [],
   "source": []
  }
 ],
 "metadata": {
  "kernelspec": {
   "display_name": "Python [conda env:py36con]",
   "language": "python",
   "name": "conda-env-py36con-py"
  },
  "language_info": {
   "codemirror_mode": {
    "name": "ipython",
    "version": 3
   },
   "file_extension": ".py",
   "mimetype": "text/x-python",
   "name": "python",
   "nbconvert_exporter": "python",
   "pygments_lexer": "ipython3",
   "version": "3.6.4"
  }
 },
 "nbformat": 4,
 "nbformat_minor": 2
}
