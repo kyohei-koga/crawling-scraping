{
 "cells": [
  {
   "cell_type": "code",
   "execution_count": 1,
   "metadata": {},
   "outputs": [],
   "source": [
    "import sys\n",
    "from  SPARQLWrapper import SPARQLWrapper"
   ]
  },
  {
   "cell_type": "code",
   "execution_count": 2,
   "metadata": {},
   "outputs": [],
   "source": [
    "# SPARQLエンドポイントのURLを指定してインスタンスを作成する。\n",
    "sparql = SPARQLWrapper('http://ja.dbpedia.org/sparql')"
   ]
  },
  {
   "cell_type": "code",
   "execution_count": 12,
   "metadata": {},
   "outputs": [],
   "source": [
    "sparql.setQuery(r'''\n",
    "    SELECT * WHERE {\n",
    "    ?s rdf:type dbpedia-owl:Museum ;\n",
    "      prop-ja:所在地 ?address .\n",
    "    FILTER REGEX(?address, \"^\\\\p{Han}{2,3}[都道府県]\")\n",
    "    } ORDER BY ?s\n",
    "''') "
   ]
  },
  {
   "cell_type": "code",
   "execution_count": 13,
   "metadata": {},
   "outputs": [],
   "source": [
    "# 取得するフォーマットとしてjsonを指定\n",
    "sparql.setReturnFormat('json')"
   ]
  },
  {
   "cell_type": "code",
   "execution_count": 14,
   "metadata": {},
   "outputs": [],
   "source": [
    "# queryを実行し、convert()でレスポンスをパースしてdictを得る。\n",
    "response = sparql.query().convert()"
   ]
  },
  {
   "cell_type": "code",
   "execution_count": 25,
   "metadata": {},
   "outputs": [
    {
     "data": {
      "text/plain": [
       "1577"
      ]
     },
     "execution_count": 25,
     "metadata": {},
     "output_type": "execute_result"
    }
   ],
   "source": [
    "len(response['results']['bindings'])"
   ]
  },
  {
   "cell_type": "code",
   "execution_count": 39,
   "metadata": {},
   "outputs": [],
   "source": [
    "sparql.setQuery(r'''\n",
    "    SELECT * WHERE{\n",
    "        ?s rdf:type dbpedia-owl:Museum ;\n",
    "        prop-ja:所在地 ?address .\n",
    "        OPTIONAL { ?s rdfs:label ?label . }\n",
    "        OPTIONAL {\n",
    "        ?s prop-ja:経度度 ?lon_degree ;\n",
    "            prop-ja:経度分 ?lon_minute ;\n",
    "            prop-ja:経度秒 ?lon_second ;\n",
    "            prop-ja:緯度度 ?lat_degree ;\n",
    "            prop-ja:経度分 ?lat_minute ;\n",
    "            prop-ja:経度秒 ?lat_second .\n",
    "        }\n",
    "        FILTER REGEX(?address, \"^\\\\p{Han}{2,3}[都道府県]\")\n",
    "    } ORDER BY ?s\n",
    "    ''')"
   ]
  },
  {
   "cell_type": "code",
   "execution_count": 40,
   "metadata": {},
   "outputs": [],
   "source": [
    "sparql.setReturnFormat('json')\n",
    "response = sparql.query().convert()"
   ]
  },
  {
   "cell_type": "code",
   "execution_count": 48,
   "metadata": {},
   "outputs": [],
   "source": [
    "# resultを加工して辞書作成\n",
    "# 反復処理できる用にyieldで本当はやる。\n",
    "a = {name:binding['value'] for name, binding in response['results']['bindings'][0].items()}"
   ]
  },
  {
   "cell_type": "code",
   "execution_count": 86,
   "metadata": {},
   "outputs": [
    {
     "data": {
      "text/plain": [
       "'兵庫県神戸市灘区岩屋中町4丁目2番7号'"
      ]
     },
     "execution_count": 86,
     "metadata": {},
     "output_type": "execute_result"
    }
   ],
   "source": [
    "a['address']"
   ]
  },
  {
   "cell_type": "code",
   "execution_count": 87,
   "metadata": {},
   "outputs": [
    {
     "name": "stdout",
     "output_type": "stream",
     "text": [
      "hello\n"
     ]
    }
   ],
   "source": [
    "if 'lon_degree' in a:\n",
    "    print('hello')"
   ]
  },
  {
   "cell_type": "code",
   "execution_count": 88,
   "metadata": {},
   "outputs": [
    {
     "data": {
      "text/plain": [
       "{'address': '兵庫県神戸市灘区岩屋中町4丁目2番7号',\n",
       " 'label': 'BBプラザ美術館',\n",
       " 'lat_degree': '34',\n",
       " 'lat_minute': '13',\n",
       " 'lat_second': '4',\n",
       " 'lon_degree': '135',\n",
       " 'lon_minute': '13',\n",
       " 'lon_second': '4',\n",
       " 's': 'http://ja.dbpedia.org/resource/BBプラザ美術館'}"
      ]
     },
     "execution_count": 88,
     "metadata": {},
     "output_type": "execute_result"
    }
   ],
   "source": [
    "a"
   ]
  },
  {
   "cell_type": "code",
   "execution_count": 51,
   "metadata": {},
   "outputs": [],
   "source": [
    "# yahooAPIでジオコーディングする。\n",
    "YAHOO_GEOCODER_API_URL = 'http://geo.search.olp.yahooapis.jp/OpenLocalPlatform/V1/geoCoder'"
   ]
  },
  {
   "cell_type": "code",
   "execution_count": 65,
   "metadata": {},
   "outputs": [],
   "source": [
    "import pandas as pd\n",
    "from urllib.request import urlopen\n",
    "from urllib.parse import urlencode"
   ]
  },
  {
   "cell_type": "code",
   "execution_count": 62,
   "metadata": {},
   "outputs": [],
   "source": [
    "yahoo_api = pd.read_csv('yahoo_api.csv', header=None, names=['name','value'])\n",
    "token = yahoo_api.loc[0, 'value']"
   ]
  },
  {
   "cell_type": "code",
   "execution_count": 68,
   "metadata": {},
   "outputs": [],
   "source": [
    "url = YAHOO_GEOCODER_API_URL + '?' + urlencode({\n",
    "    'appid':token,\n",
    "    'output':'json',\n",
    "    'query':a['address']\n",
    "})"
   ]
  },
  {
   "cell_type": "code",
   "execution_count": 69,
   "metadata": {},
   "outputs": [],
   "source": [
    "response_text = urlopen(url).read()"
   ]
  },
  {
   "cell_type": "code",
   "execution_count": 78,
   "metadata": {},
   "outputs": [],
   "source": [
    "import json\n",
    "coordinates = json.loads(response_text.decode('utf-8'))"
   ]
  },
  {
   "cell_type": "code",
   "execution_count": 81,
   "metadata": {},
   "outputs": [
    {
     "data": {
      "text/plain": [
       "['135.21779210', '34.70326468']"
      ]
     },
     "execution_count": 81,
     "metadata": {},
     "output_type": "execute_result"
    }
   ],
   "source": [
    "coordinates['Feature'][0]['Geometry']['Coordinates'].split(',')"
   ]
  },
  {
   "cell_type": "code",
   "execution_count": 82,
   "metadata": {},
   "outputs": [
    {
     "data": {
      "text/plain": [
       "{'Feature': [{'Category': [],\n",
       "   'Description': '',\n",
       "   'Geometry': {'BoundingBox': '135.21712300,34.70254200 135.21992100,34.70438400',\n",
       "    'Coordinates': '135.21779210,34.70326468',\n",
       "    'Type': 'point'},\n",
       "   'Gid': '',\n",
       "   'Id': '28102.9.4.2.7',\n",
       "   'Name': '兵庫県神戸市灘区岩屋中町4丁目2-7',\n",
       "   'Property': {'Address': '兵庫県神戸市灘区岩屋中町4丁目2-7',\n",
       "    'AddressMatchingLevel': '6',\n",
       "    'AddressType': '地番・戸番',\n",
       "    'CassetteId': 'b22fee69b0dcaf2c2fe2d6a27906dafc',\n",
       "    'Country': {'Code': 'JP', 'Name': '日本'},\n",
       "    'GovernmentCode': '28102',\n",
       "    'Uid': 'efb166aa75eae60aa5492dba1d5737ebe2460ae6',\n",
       "    'Yomi': 'ヒョウゴケンコウベシナダクイワヤナカマチ4チョウメ'},\n",
       "   'Style': []}],\n",
       " 'ResultInfo': {'Copyright': '',\n",
       "  'Count': 1,\n",
       "  'Description': '',\n",
       "  'Latency': 0.083,\n",
       "  'Start': 1,\n",
       "  'Status': 200,\n",
       "  'Total': 1}}"
      ]
     },
     "execution_count": 82,
     "metadata": {},
     "output_type": "execute_result"
    }
   ],
   "source": [
    "coordinates"
   ]
  },
  {
   "cell_type": "code",
   "execution_count": null,
   "metadata": {},
   "outputs": [],
   "source": []
  }
 ],
 "metadata": {
  "kernelspec": {
   "display_name": "Python [conda env:py36con]",
   "language": "python",
   "name": "conda-env-py36con-py"
  },
  "language_info": {
   "codemirror_mode": {
    "name": "ipython",
    "version": 3
   },
   "file_extension": ".py",
   "mimetype": "text/x-python",
   "name": "python",
   "nbconvert_exporter": "python",
   "pygments_lexer": "ipython3",
   "version": "3.6.4"
  }
 },
 "nbformat": 4,
 "nbformat_minor": 2
}
