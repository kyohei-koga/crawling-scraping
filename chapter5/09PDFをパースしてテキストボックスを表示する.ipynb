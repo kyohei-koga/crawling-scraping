{
 "cells": [
  {
   "cell_type": "code",
   "execution_count": 1,
   "metadata": {},
   "outputs": [],
   "source": [
    "import sys\n",
    "\n",
    "from pdfminer.converter import PDFPageAggregator\n",
    "from pdfminer.layout import LAParams, LTContainer, LTTextBox\n",
    "from pdfminer.pdfinterp import PDFPageInterpreter, PDFResourceManager\n",
    "from pdfminer.pdfpage import PDFPage"
   ]
  },
  {
   "cell_type": "code",
   "execution_count": 2,
   "metadata": {},
   "outputs": [],
   "source": [
    "def find_textboxes_recursively(layout_obj):\n",
    "    \"\"\"\n",
    "    再帰的にテキストボックス(LTTextBox)を探して、テキストボックスのリストを取得する\n",
    "    \"\"\"\n",
    "    # LTTextBoxを継承するオブジェクトの場合は1要素のリストを返す。\n",
    "    if isinstance(layout_obj, LTTextBox):\n",
    "        return [layout_obj]\n",
    "    \n",
    "    # LTContainerを継承するオブジェクトは子要素を含むので、再帰的に探す。\n",
    "    if isinstance(layout_obj, LTContainer):\n",
    "        boxes = []\n",
    "        for child in layout_obj:\n",
    "            boxes.extend(find_textboxes_recursively(child))\n",
    "            \n",
    "        return boxes\n",
    "    \n",
    "    return []  # その他の場合はからリストを返す。"
   ]
  },
  {
   "cell_type": "code",
   "execution_count": 3,
   "metadata": {},
   "outputs": [],
   "source": [
    "laparams = LAParams(detect_vertical=True)  # Layout Analysisのパラメータ設定。縦書の検出を有効にする。\n",
    "resource_manager = PDFResourceManager()  # 共有のリソースを管理するリソースマネージャーを作成。\n",
    "# ページを集めるPageAggregatorオブジェクトの作成。\n",
    "device = PDFPageAggregator(resource_manager, laparams=laparams)\n",
    "interpreter = PDFPageInterpreter(resource_manager, device)  # Interpreterオブジェクトの作成"
   ]
  },
  {
   "cell_type": "code",
   "execution_count": 4,
   "metadata": {},
   "outputs": [
    {
     "ename": "FileNotFoundError",
     "evalue": "[Errno 2] No such file or directory: '-f'",
     "output_type": "error",
     "traceback": [
      "\u001b[0;31m---------------------------------------------------------------------------\u001b[0m",
      "\u001b[0;31mFileNotFoundError\u001b[0m                         Traceback (most recent call last)",
      "\u001b[0;32m<ipython-input-4-db04f03c1635>\u001b[0m in \u001b[0;36m<module>\u001b[0;34m()\u001b[0m\n\u001b[0;32m----> 1\u001b[0;31m \u001b[0;32mwith\u001b[0m \u001b[0mopen\u001b[0m\u001b[0;34m(\u001b[0m\u001b[0msys\u001b[0m\u001b[0;34m.\u001b[0m\u001b[0margv\u001b[0m\u001b[0;34m[\u001b[0m\u001b[0;36m1\u001b[0m\u001b[0;34m]\u001b[0m\u001b[0;34m,\u001b[0m \u001b[0;34m'rb'\u001b[0m\u001b[0;34m)\u001b[0m \u001b[0;32mas\u001b[0m \u001b[0mf\u001b[0m\u001b[0;34m:\u001b[0m  \u001b[0;31m# ファイルをバイナリ形式で開く。\u001b[0m\u001b[0;34m\u001b[0m\u001b[0m\n\u001b[0m\u001b[1;32m      2\u001b[0m     \u001b[0;31m# PDFPage.get_pages()にファイルオブジェクトを指定して、PDFPageオブジェクトを順に取得する。\u001b[0m\u001b[0;34m\u001b[0m\u001b[0;34m\u001b[0m\u001b[0m\n\u001b[1;32m      3\u001b[0m     \u001b[0;31m# 時間がかかるファイルは、キーワード引数pagenosで処理するページ番号（0始まり）のリストを指定すると良い。\u001b[0m\u001b[0;34m\u001b[0m\u001b[0;34m\u001b[0m\u001b[0m\n\u001b[1;32m      4\u001b[0m     \u001b[0;32mfor\u001b[0m \u001b[0mpage\u001b[0m \u001b[0;32min\u001b[0m \u001b[0mPDFPage\u001b[0m\u001b[0;34m.\u001b[0m\u001b[0mget_pages\u001b[0m\u001b[0;34m(\u001b[0m\u001b[0mf\u001b[0m\u001b[0;34m)\u001b[0m\u001b[0;34m:\u001b[0m\u001b[0;34m\u001b[0m\u001b[0m\n\u001b[1;32m      5\u001b[0m         \u001b[0minterpreter\u001b[0m\u001b[0;34m.\u001b[0m\u001b[0mprocess_page\u001b[0m\u001b[0;34m(\u001b[0m\u001b[0mpage\u001b[0m\u001b[0;34m)\u001b[0m  \u001b[0;31m# ページを処理する。\u001b[0m\u001b[0;34m\u001b[0m\u001b[0m\n",
      "\u001b[0;31mFileNotFoundError\u001b[0m: [Errno 2] No such file or directory: '-f'"
     ]
    }
   ],
   "source": [
    "with open(sys.argv[1], 'rb') as f:  # ファイルをバイナリ形式で開く。\n",
    "    # PDFPage.get_pages()にファイルオブジェクトを指定して、PDFPageオブジェクトを順に取得する。\n",
    "    # 時間がかかるファイルは、キーワード引数pagenosで処理するページ番号（0始まり）のリストを指定すると良い。\n",
    "    for page in PDFPage.get_pages(f):\n",
    "        interpreter.process_page(page)  # ページを処理する。\n",
    "        layout = device.get_result()  # LTPageオブジェクトを取得。\n",
    "        \n",
    "        boxes = find_textboxes_recursively(layout)  # ページ内のテキストボックスのリストを取得する。\n",
    "        # テキストボックスの左上の座標の順でテキストボックスをソートする。\n",
    "        # y1(Y座標の値)は上に行くほど大きくなるので、正負を反転させている。\n",
    "        boxes.sort(key=lambda b: (-b.y1, b.x0))\n",
    "        \n",
    "        for box in boxes:\n",
    "            print('-' * 10)  # 読みやすいように区切り線を表示する。\n",
    "            print(box.get_text().strip())  # テキストボックス内のテキストを表示する。"
   ]
  },
  {
   "cell_type": "code",
   "execution_count": 6,
   "metadata": {},
   "outputs": [],
   "source": [
    "sys.argv?"
   ]
  },
  {
   "cell_type": "code",
   "execution_count": null,
   "metadata": {},
   "outputs": [],
   "source": []
  }
 ],
 "metadata": {
  "kernelspec": {
   "display_name": "Python [conda env:py36con]",
   "language": "python",
   "name": "conda-env-py36con-py"
  },
  "language_info": {
   "codemirror_mode": {
    "name": "ipython",
    "version": 3
   },
   "file_extension": ".py",
   "mimetype": "text/x-python",
   "name": "python",
   "nbconvert_exporter": "python",
   "pygments_lexer": "ipython3",
   "version": "3.6.4"
  }
 },
 "nbformat": 4,
 "nbformat_minor": 2
}
