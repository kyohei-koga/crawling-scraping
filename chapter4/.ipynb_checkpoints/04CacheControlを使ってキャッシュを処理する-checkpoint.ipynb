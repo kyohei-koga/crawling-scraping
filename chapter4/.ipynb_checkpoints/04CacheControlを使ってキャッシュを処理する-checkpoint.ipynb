{
 "cells": [
  {
   "cell_type": "code",
   "execution_count": 1,
   "metadata": {},
   "outputs": [],
   "source": [
    "import requests\n",
    "from cachecontrol import CacheControl"
   ]
  },
  {
   "cell_type": "code",
   "execution_count": 2,
   "metadata": {},
   "outputs": [],
   "source": [
    "session = requests.session()\n",
    "cached_session = CacheControl(session) #sessionをラップしたcached_sessionを作る。"
   ]
  },
  {
   "cell_type": "code",
   "execution_count": 3,
   "metadata": {},
   "outputs": [
    {
     "name": "stdout",
     "output_type": "stream",
     "text": [
      "False\n"
     ]
    }
   ],
   "source": [
    "#1回めはキャッシュが無いので、サーバーから取得しキャッシュする。\n",
    "response = cached_session.get('https://docs.python.org/3/')\n",
    "print(response.from_cache) #False"
   ]
  },
  {
   "cell_type": "code",
   "execution_count": 4,
   "metadata": {},
   "outputs": [
    {
     "name": "stdout",
     "output_type": "stream",
     "text": [
      "True\n"
     ]
    }
   ],
   "source": [
    "#2回目はEtagとLast-Modifiedの値を使って更新されているかを確認する。\n",
    "#更新されていない場合のコンテンツはキャッシュから取得するので高速に処理できる。\n",
    "response = cached_session.get('https://docs.python.org/3/')\n",
    "print(response.from_cache)"
   ]
  },
  {
   "cell_type": "code",
   "execution_count": null,
   "metadata": {},
   "outputs": [],
   "source": []
  }
 ],
 "metadata": {
  "kernelspec": {
   "display_name": "Python [conda env:py36con]",
   "language": "python",
   "name": "conda-env-py36con-py"
  },
  "language_info": {
   "codemirror_mode": {
    "name": "ipython",
    "version": 3
   },
   "file_extension": ".py",
   "mimetype": "text/x-python",
   "name": "python",
   "nbconvert_exporter": "python",
   "pygments_lexer": "ipython3",
   "version": "3.6.4"
  }
 },
 "nbformat": 4,
 "nbformat_minor": 2
}
