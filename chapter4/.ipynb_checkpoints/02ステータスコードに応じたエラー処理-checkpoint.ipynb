{
 "cells": [
  {
   "cell_type": "code",
   "execution_count": 1,
   "metadata": {},
   "outputs": [],
   "source": [
    "import time\n",
    "import requests"
   ]
  },
  {
   "cell_type": "code",
   "execution_count": 35,
   "metadata": {},
   "outputs": [],
   "source": [
    "TEMPORARY_ERROR_CODES = (408,500,502,503,504) #一時的なエラーを表すステータスコード"
   ]
  },
  {
   "cell_type": "code",
   "execution_count": 36,
   "metadata": {},
   "outputs": [],
   "source": [
    "def main():\n",
    "    \"\"\"\n",
    "    メインとなる処理\n",
    "    \"\"\"\n",
    "    response = fetch('http://httpbin.org/status/200,404,503')\n",
    "    if 200 <= response.status_code < 300:\n",
    "        print('Success!')\n",
    "    else:\n",
    "        print('Error!')"
   ]
  },
  {
   "cell_type": "code",
   "execution_count": 37,
   "metadata": {},
   "outputs": [],
   "source": [
    "def fetch(url):\n",
    "    \"\"\"\n",
    "    指定したURLを取得しResponseオブジェクトを返す。一時的なエラーが起きた場合は最大3回リトライする。\n",
    "    \"\"\"\n",
    "    max_retries = 3 #最大で3回リトライする。\n",
    "    retries = 0 #現在のリトライ回数を示す変数。\n",
    "    while True: #無限ループ\n",
    "        try:\n",
    "            print('Retrieving {0}...'.format(url))\n",
    "            response = requests.get(url)\n",
    "            print('Status: {0}'.format(response.status_code))\n",
    "            if response.status_code not in TEMPORARY_ERROR_CODES:\n",
    "                return response #一時的なエラーでなければresponseを返す。\n",
    "        \n",
    "        except requests.exceptions.RequestException as ex:\n",
    "            #ネットワークレベルのエラー(RequestException)の場合はリトライする。\n",
    "            print('Exception occured: {0}'.format(ex))\n",
    "            retries += 1\n",
    "            if retries >= max_retries:\n",
    "                raise Exception('Too many retries.') #リトライ回数の上限を超えた場合は例外を発生させる。\n",
    "                \n",
    "            wait = 2**(retries - 1) #指数関数的なリトライ間隔を求める。(**はべき乗を表す演算子)\n",
    "            print('Waiting {0} seconds...'.format(wait))\n",
    "            time.sleep(wait) #ウェイトを取る。"
   ]
  },
  {
   "cell_type": "code",
   "execution_count": 41,
   "metadata": {},
   "outputs": [
    {
     "name": "stdout",
     "output_type": "stream",
     "text": [
      "Retrieving http://httpbin.org/status/200,404,503...\n",
      "Status: 503\n",
      "Retrieving http://httpbin.org/status/200,404,503...\n",
      "Status: 503\n",
      "Retrieving http://httpbin.org/status/200,404,503...\n",
      "Status: 404\n",
      "Error!\n"
     ]
    }
   ],
   "source": [
    "if __name__=='__main__':\n",
    "    main()"
   ]
  }
 ],
 "metadata": {
  "kernelspec": {
   "display_name": "Python [conda env:py36con]",
   "language": "python",
   "name": "conda-env-py36con-py"
  },
  "language_info": {
   "codemirror_mode": {
    "name": "ipython",
    "version": 3
   },
   "file_extension": ".py",
   "mimetype": "text/x-python",
   "name": "python",
   "nbconvert_exporter": "python",
   "pygments_lexer": "ipython3",
   "version": "3.6.4"
  }
 },
 "nbformat": 4,
 "nbformat_minor": 2
}
