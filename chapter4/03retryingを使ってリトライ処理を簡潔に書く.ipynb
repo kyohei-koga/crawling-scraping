{
 "cells": [
  {
   "cell_type": "code",
   "execution_count": 9,
   "metadata": {},
   "outputs": [],
   "source": [
    "import requests\n",
    "from retrying import retry"
   ]
  },
  {
   "cell_type": "code",
   "execution_count": 10,
   "metadata": {},
   "outputs": [],
   "source": [
    "TEMPORARY_ERROR_CODES = (408,500,502,503,504) #一時的なエラーを表すステータスコード"
   ]
  },
  {
   "cell_type": "code",
   "execution_count": 11,
   "metadata": {},
   "outputs": [],
   "source": [
    "def main():\n",
    "    \"\"\"\n",
    "    メインとなる処理\n",
    "    \"\"\"\n",
    "    response = fetch('http://httpbin.org/status/200,404,503')\n",
    "    if 200 <= response.status_code < 300:\n",
    "        print('Success!')\n",
    "    else:\n",
    "        print('Error!')"
   ]
  },
  {
   "cell_type": "code",
   "execution_count": 17,
   "metadata": {},
   "outputs": [],
   "source": [
    "#stop_max_attepmpt_numberは最大リトライ回数を指定する。\n",
    "#wait_exponential_multiplierは指数関数的なウェイトを取る場合の、初回のウェイトをミリ秒単位で指定する。\n",
    "@retry(stop_max_attempt_number=3,wait_exponential_multiplier=1000)\n",
    "def fetch(url):\n",
    "    \"\"\"\n",
    "    指定したURLを取得しResponseオブジェクトを返す。一時的なエラーが起きた場合は最大3回リトライする。\n",
    "    \"\"\"\n",
    "    print('Retrieving {0}...'.format(url))\n",
    "    response = requests.get(url)\n",
    "    print('Status: {0}'.format(response.status_code))\n",
    "    if response.status_code not in TEMPORARY_ERROR_CODES:\n",
    "        return response #一時的なエラーでなければresponseを返す。\n",
    "    \n",
    "    #一時的なエラーの場合は例外を発生させてリトライする。\n",
    "    raise Exception('Temporary Error: {0}'.format(response.status_code))"
   ]
  },
  {
   "cell_type": "code",
   "execution_count": 18,
   "metadata": {},
   "outputs": [
    {
     "name": "stdout",
     "output_type": "stream",
     "text": [
      "Retrieving http://httpbin.org/status/200,404,503...\n",
      "Status: 404\n",
      "Error!\n"
     ]
    }
   ],
   "source": [
    "if __name__=='__main__':\n",
    "    main()"
   ]
  },
  {
   "cell_type": "code",
   "execution_count": null,
   "metadata": {},
   "outputs": [],
   "source": []
  }
 ],
 "metadata": {
  "kernelspec": {
   "display_name": "Python [conda env:py36con]",
   "language": "python",
   "name": "conda-env-py36con-py"
  },
  "language_info": {
   "codemirror_mode": {
    "name": "ipython",
    "version": 3
   },
   "file_extension": ".py",
   "mimetype": "text/x-python",
   "name": "python",
   "nbconvert_exporter": "python",
   "pygments_lexer": "ipython3",
   "version": "3.6.4"
  }
 },
 "nbformat": 4,
 "nbformat_minor": 2
}
