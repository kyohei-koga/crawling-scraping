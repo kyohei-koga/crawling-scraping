{
 "cells": [
  {
   "cell_type": "code",
   "execution_count": 7,
   "metadata": {},
   "outputs": [],
   "source": [
    "import smtplib\n",
    "from email.mime.text import MIMEText\n",
    "from email.header import Header"
   ]
  },
  {
   "cell_type": "code",
   "execution_count": 8,
   "metadata": {},
   "outputs": [],
   "source": [
    "msg = MIMEText('メールの本文です。') #MIMETextオブジェクトでメッセージを組み立てる。\n",
    "msg['Subject'] = Header('メールの件名','utf-8') #懸命に日本語含める場合はHeaderオブジェクトを使う。\n",
    "msg['From'] = 'frommailaddress@gmail.com' #差出人のメールアドレス\n",
    "msg['To'] = 'tomailaddress@mail.com' #送信先のメールアドレス"
   ]
  },
  {
   "cell_type": "code",
   "execution_count": 15,
   "metadata": {
    "scrolled": true
   },
   "outputs": [],
   "source": [
    "with smtplib.SMTP_SSL('smtp.gmail.com',465) as smtp: #SMTP()の第一引数にSMTPサーバーのホスト名を指定する。 SMTP_SSLにしてポート番号を465にするとできた。正直謎。\n",
    "    #Googleアカウントのユーザー名とパスワードを指定してログインする。\n",
    "    #2段階認証を設定している場合は、アプリパスワード生成して使用する。\n",
    "    smtp.login('loginaddress','loginemail')\n",
    "    smtp.send_message(msg) #send_message()メソッドでメールを送信する。"
   ]
  },
  {
   "cell_type": "code",
   "execution_count": null,
   "metadata": {},
   "outputs": [],
   "source": []
  }
 ],
 "metadata": {
  "kernelspec": {
   "display_name": "Python [conda env:py36con]",
   "language": "python",
   "name": "conda-env-py36con-py"
  },
  "language_info": {
   "codemirror_mode": {
    "name": "ipython",
    "version": 3
   },
   "file_extension": ".py",
   "mimetype": "text/x-python",
   "name": "python",
   "nbconvert_exporter": "python",
   "pygments_lexer": "ipython3",
   "version": "3.6.4"
  }
 },
 "nbformat": 4,
 "nbformat_minor": 2
}
