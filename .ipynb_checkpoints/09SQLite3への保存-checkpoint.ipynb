{
 "cells": [
  {
   "cell_type": "code",
   "execution_count": 1,
   "metadata": {},
   "outputs": [],
   "source": [
    "import sqlite3"
   ]
  },
  {
   "cell_type": "code",
   "execution_count": 2,
   "metadata": {},
   "outputs": [],
   "source": [
    "conn = sqlite3.connect('top_cities.db') # top_cities.dbファイルを開き、コネクションを取得する"
   ]
  },
  {
   "cell_type": "code",
   "execution_count": 3,
   "metadata": {},
   "outputs": [],
   "source": [
    "c = conn.cursor() #カーソルを取得する。"
   ]
  },
  {
   "cell_type": "code",
   "execution_count": 4,
   "metadata": {},
   "outputs": [
    {
     "data": {
      "text/plain": [
       "<sqlite3.Cursor at 0x7f473c70ac70>"
      ]
     },
     "execution_count": 4,
     "metadata": {},
     "output_type": "execute_result"
    }
   ],
   "source": [
    "#excecuteメソッドでsql文を実行する。\n",
    "#このスクリプトを南海実行しても同じ結果になるようにするため、citiesテーブルが存在する場合は削除する\n",
    "c.execute('DROP TABLE IF EXISTS cities')\n",
    "#citiesテーブルを作成する\n",
    "c.execute('''\n",
    "    CREATE TABLE cities (\n",
    "        rank integer,\n",
    "        city text,\n",
    "        population integer\n",
    "    )\n",
    "''')"
   ]
  },
  {
   "cell_type": "code",
   "execution_count": 6,
   "metadata": {},
   "outputs": [
    {
     "data": {
      "text/plain": [
       "<sqlite3.Cursor at 0x7f473c70ac70>"
      ]
     },
     "execution_count": 6,
     "metadata": {},
     "output_type": "execute_result"
    }
   ],
   "source": [
    "#execute()メソッドの第2引数にはSQL文のパラメータのリストを指定できる\n",
    "#パラメーターで置き換える場所（プレースホルダー）は?で指定する\n",
    "c.execute('INSERT INTO cities VALUES (?,?,?)',(1,'上海',24150000))"
   ]
  },
  {
   "cell_type": "code",
   "execution_count": 7,
   "metadata": {},
   "outputs": [
    {
     "data": {
      "text/plain": [
       "<sqlite3.Cursor at 0x7f473c70ac70>"
      ]
     },
     "execution_count": 7,
     "metadata": {},
     "output_type": "execute_result"
    }
   ],
   "source": [
    "#パラメータが辞書の場合、プレースホルダーは　：キー名　で指定する\n",
    "c.execute('INSERT INTO cities VALUES(:rank,:city,:population)',\n",
    "          {'rank':2,'city':'カラチ','population':23500000})"
   ]
  },
  {
   "cell_type": "code",
   "execution_count": 8,
   "metadata": {},
   "outputs": [
    {
     "data": {
      "text/plain": [
       "<sqlite3.Cursor at 0x7f473c70ac70>"
      ]
     },
     "execution_count": 8,
     "metadata": {},
     "output_type": "execute_result"
    }
   ],
   "source": [
    "#executemaby()メソッドでは、複数のパラメーターをリストで指定できる\n",
    "#パラメータの数（ここでは3つ）のSQLを順に実行できる。\n",
    "c.executemany('INSERT INTO cities VALUES (:rank,:city,:population)',[\n",
    "    {'rank': 3, 'city': '北京', 'population': 21516000},\n",
    "    {'rank': 4, 'city': '天津', 'population': 14722100},\n",
    "    {'rank': 5, 'city': 'イスタンブル', 'population': 14160467}\n",
    "])"
   ]
  },
  {
   "cell_type": "code",
   "execution_count": 9,
   "metadata": {},
   "outputs": [],
   "source": [
    "conn.commit() #変更をコミット（保存）する"
   ]
  },
  {
   "cell_type": "code",
   "execution_count": 10,
   "metadata": {},
   "outputs": [
    {
     "data": {
      "text/plain": [
       "<sqlite3.Cursor at 0x7f473c70ac70>"
      ]
     },
     "execution_count": 10,
     "metadata": {},
     "output_type": "execute_result"
    }
   ],
   "source": [
    "c.execute('SELECT * FROM cities') #保存したデータを取得するselect文を実行する。"
   ]
  },
  {
   "cell_type": "code",
   "execution_count": 11,
   "metadata": {},
   "outputs": [
    {
     "name": "stdout",
     "output_type": "stream",
     "text": [
      "(1, '上海', 24150000)\n",
      "(2, 'カラチ', 23500000)\n",
      "(3, '北京', 21516000)\n",
      "(4, '天津', 14722100)\n",
      "(5, 'イスタンブル', 14160467)\n"
     ]
    }
   ],
   "source": [
    "#クエリの結果はfetcall()メソッドで取得できる\n",
    "for row in c.fetchall():\n",
    "    print(row)"
   ]
  },
  {
   "cell_type": "code",
   "execution_count": 12,
   "metadata": {},
   "outputs": [],
   "source": [
    "conn.close()#コネクションを閉じる"
   ]
  }
 ],
 "metadata": {
  "kernelspec": {
   "display_name": "Python [conda env:py36con]",
   "language": "python",
   "name": "conda-env-py36con-py"
  },
  "language_info": {
   "codemirror_mode": {
    "name": "ipython",
    "version": 3
   },
   "file_extension": ".py",
   "mimetype": "text/x-python",
   "name": "python",
   "nbconvert_exporter": "python",
   "pygments_lexer": "ipython3",
   "version": "3.6.4"
  }
 },
 "nbformat": 4,
 "nbformat_minor": 2
}
