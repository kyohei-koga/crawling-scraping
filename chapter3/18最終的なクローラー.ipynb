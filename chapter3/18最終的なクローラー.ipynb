{
 "cells": [
  {
   "cell_type": "code",
   "execution_count": 1,
   "metadata": {},
   "outputs": [],
   "source": [
    "import time\n",
    "import re\n",
    "\n",
    "import requests\n",
    "import lxml.html\n",
    "from pymongo import MongoClient"
   ]
  },
  {
   "cell_type": "code",
   "execution_count": 2,
   "metadata": {},
   "outputs": [],
   "source": [
    "def main():\n",
    "    \"\"\"\n",
    "    クローラーのメインの処理\n",
    "    \"\"\"\n",
    "    \n",
    "    client = MongoClient('localhost',27017) #ローカルホストのMongoDBに接続する\n",
    "    collection = client.scraping.ebooks # scrapingデータベースのebooksコレクションを得る\n",
    "    #データを一意に識別するキーを格納するkeyフィールドにユニークなインデックスを作成する。\n",
    "    collection.create_index('key',unique=True)\n",
    "    \n",
    "    response = requests.get('https://gihyo.jp/dp') #一覧ページを取得する\n",
    "    urls = scrape_list_page(response) #詳細ページのURLを得る\n",
    "    for url in urls:\n",
    "        key = extract_key(url) #URLからキーを取得する。\n",
    "        \n",
    "        ebook = collection.find_one({'key':key}) #MonogoDBからKeyに該当するデータを探す。\n",
    "        if not ebook: #MongoDBに存在しない時だけ、詳細ページをクロールする。\n",
    "            time.sleep(1)\n",
    "            response = requests.get(url)\n",
    "            ebook = scrape_detail_page(response)\n",
    "            collection.insert_one(ebook) #電子書籍の情報をMongoDBに保存する。\n",
    "            \n",
    "        print(ebook) #電子書籍の情報を表示する"
   ]
  },
  {
   "cell_type": "code",
   "execution_count": 3,
   "metadata": {},
   "outputs": [],
   "source": [
    "def scrape_list_page(response):\n",
    "    \"\"\"\n",
    "    一覧ページのResponseから詳細ページのURLを抜き出す。\n",
    "    \"\"\"\n",
    "    root = lxml.html.fromstring(response.content)\n",
    "    root.make_links_absolute(response.url)\n",
    "    \n",
    "    for a in root.cssselect('#listBook a[itemprop=\"url\"]'):\n",
    "        url = a.get('href')\n",
    "        yield url"
   ]
  },
  {
   "cell_type": "code",
   "execution_count": 4,
   "metadata": {},
   "outputs": [],
   "source": [
    "def scrape_detail_page(response):\n",
    "    \"\"\"\n",
    "    詳細ページのResponseから電子書籍の情報をdictで得る。\n",
    "    \"\"\"\n",
    "    root = lxml.html.fromstring(response.content)\n",
    "    ebook = {\n",
    "        'url':response.url,#URL\n",
    "        'key':extract_key(response.url), #URLから抜き出したキー\n",
    "        'title':root.cssselect('#bookTitle')[0].text_content(), #タイトル\n",
    "        'price':root.cssselect('.buy')[0].text.strip(), #価格\n",
    "        'content':[normalize_spaces(h3.text_content()) for h3 in root.cssselect('#content > h3')],#目次\n",
    "    }\n",
    "    return ebook"
   ]
  },
  {
   "cell_type": "code",
   "execution_count": 5,
   "metadata": {},
   "outputs": [],
   "source": [
    "def extract_key(url):\n",
    "    \"\"\"\n",
    "    URLからキー(URLの末尾のISBN)を抜き出す。\n",
    "    \"\"\"\n",
    "    m = re.search(r'/([^/]+)$',url)\n",
    "    return m.group(1)"
   ]
  },
  {
   "cell_type": "code",
   "execution_count": 6,
   "metadata": {},
   "outputs": [],
   "source": [
    "def normalize_spaces(s):\n",
    "    \"\"\"\n",
    "    連続する空白を1つのスペースに置き換え、前後の空白は削除した新しい文字列を取得する。\n",
    "    \"\"\"\n",
    "    return re.sub(r'\\s+',' ',s)"
   ]
  },
  {
   "cell_type": "code",
   "execution_count": 7,
   "metadata": {},
   "outputs": [
    {
     "name": "stdout",
     "output_type": "stream",
     "text": [
      "{'url': 'https://gihyo.jp/dp/ebook/2018/978-4-7741-9792-0', 'key': '978-4-7741-9792-0', 'title': 'WEB+DB PRESS Vol.104', 'price': '1,598円', 'content': [' 特集1 ［モダンなコードをギュッと凝縮！］イマドキPython入門 文法，機械学習，Web開発を一気に学ぼう ', ' 特集2 いきなりiPhoneアプリ開発 カメラの写真を加工してTwitter投稿！ ', ' 特集3 はじめてのUnity シューティングゲームを作ろう！ ', '連載', 'コラム', 'Special Report', '特別広報'], '_id': ObjectId('5ad0b833a43c3a0dd71cc230')}\n",
      "{'url': 'https://gihyo.jp/dp/ebook/2018/978-4-7741-9791-3', 'key': '978-4-7741-9791-3', 'title': 'ゼロからはじめるLINE ライン スマートガイド 改訂版', 'price': '980円', 'content': ['第1章 LINEを始めよう', '第2章 トークや通話を楽しもう', '第3章 もっと友だちを追加しよう', '第4章 スタンプを入手しよう', '第5章 トークをもっと楽しもう', '第6章 グループを活用しよう', '第7章 LINE をもっと使いこなそう', '第8章 LINE を安心して使おう', '第9章 LINE の気になるQ&A'], '_id': ObjectId('5ad0b838a43c3a0dd71cc231')}\n",
      "{'url': 'https://gihyo.jp/dp/ebook/2018/978-4-7741-9787-6', 'key': '978-4-7741-9787-6', 'title': '［改訂新版］C言語による標準アルゴリズム事典', 'price': '2,500円', 'content': [], '_id': ObjectId('5ad0b839a43c3a0dd71cc232')}\n",
      "{'url': 'https://gihyo.jp/dp/ebook/2018/978-4-7741-9784-5', 'key': '978-4-7741-9784-5', 'title': '改訂新版 解きながら覚える 乙種第4類危険物取扱者', 'price': '1,580円', 'content': ['第1章 危険物に関する法令', '第2章 基礎的な物理及び基礎的な化学', '第3章 危険物の性質と火災予防・消火の方法', '第4類危険物の概要', '第4類危険物'], '_id': ObjectId('5ad0b83ba43c3a0dd71cc233')}\n",
      "{'url': 'https://gihyo.jp/dp/ebook/2018/978-4-7741-9788-3', 'key': '978-4-7741-9788-3', 'title': 'ゼロからはじめるドコモ arrows Tab F-02K スマートガイド', 'price': '1,380円', 'content': ['第1章 arrows Tab F-02Kのキホン', '第2章 インターネットを利用する', '第3章 電話帳とメールを利用する', '第4章 便利な機能を使ってみる', '第5章 Googleのサービスを使いこなす', '第6章 ドコモのサービスを使いこなす', '第7章 電子書籍を楽しむ', '第8章 マルチユーザーとセキュリティ機能を利用する', '第9章 F-02K を使いこなす'], '_id': ObjectId('5ad0b83ca43c3a0dd71cc234')}\n",
      "{'url': 'https://gihyo.jp/dp/ebook/2018/978-4-7741-9717-3', 'key': '978-4-7741-9717-3', 'title': 'Software Design 2018年5月号', 'price': '1,318円', 'content': [' 第1特集 パフォーマンスを向上させるテーブル設計とSQL “速い”データベースの作り方 ', ' 第2特集 HashiCorp入門 Vagrant，Packer，Terraform，Consul――いっきにわかる使い方 ', ' 第3特集 これが定番Linux環境だ！ Ubuntu 18.04 LTSの最新事情 ', '一般記事', 'Test Report', '連載'], '_id': ObjectId('5ad0b83ea43c3a0dd71cc235')}\n",
      "{'url': 'https://gihyo.jp/dp/ebook/2018/978-4-7741-9786-9', 'key': '978-4-7741-9786-9', 'title': 'ゼロからはじめるiTunes スマートガイド', 'price': '1,080円', 'content': ['第1章 iTunesを始めよう', '第2章 iTunesで曲を管理しよう', '第3章 iTunes Storeを利用しよう', '第4章 iTunes Storeをもっと楽しもう', '第5章 iTunesで情報を共有しよう', '第6章 iTunesをもっと使いこなそう', '第7章 困ったときの対処法'], '_id': ObjectId('5ad0b840a43c3a0dd71cc236')}\n",
      "{'url': 'https://gihyo.jp/dp/ebook/2018/978-4-7741-9765-4', 'key': '978-4-7741-9765-4', 'title': '科学はなぜわかりにくいのか―現代科学の方法論を理解する', 'price': '1,580円', 'content': ['第1章 科学者はなぜ見てきたように語れるのか', '第2章 科学者は世界を見通す賢者なのか', '第3章 科学は世界を語れるのか', '第4章 科学はいつ間違えるのか', '第5章 科学者はなぜ数字で語りたがるのか', '第6章 科学とどうつきあえばよいのか'], '_id': ObjectId('5ad0b841a43c3a0dd71cc237')}\n",
      "{'url': 'https://gihyo.jp/dp/ebook/2018/978-4-7741-9782-1', 'key': '978-4-7741-9782-1', 'title': '世界一わかりやすい concrete5導入とサイト制作の教科書', 'price': '3,280円', 'content': ['Lesson01 concrete5 へようこそ！', 'Lesson02 concrete5をインストールしよう', 'Lesson03 初期設定をしよう', 'Lesson04 コンテンツを追加・編集しよう', 'Lesson05 ページを追加・管理しよう', 'Lesson06 拡張機能を使おう', 'Lesson07 PC上にローカル開発環境を作ろう', 'Lesson08 テーマ作成の基礎知識', 'Lesson09 テーマを完成させよう', 'Lesson10 ブロックを設置してカスタマイズしよう', 'Lesson11 本番環境へデプロイしよう', 'Lesson12 権限とワークフローを設定しよう', 'Lesson13 多言語設定をしてみよう', 'Lesson14 サイトの運営と管理', 'Lesson15 もっとconcrete5を使いこなそう'], '_id': ObjectId('5ad0b843a43c3a0dd71cc238')}\n",
      "{'url': 'https://gihyo.jp/dp/ebook/2018/978-4-7741-9781-4', 'key': '978-4-7741-9781-4', 'title': '改訂新版 毒物劇物取扱者 合格教本', 'price': '1,850円', 'content': ['第1章 毒物及び劇物に関する法規', '第2章 基礎化学', '第3章 毒物劇物の性状', '第4章 毒物劇物の貯蔵法', '第5章 毒物劇物の廃棄法', '第6章 漏洩時の応急措置', '第7章 毒性・解毒剤', '第8章 鑑別法', '第9章 用途'], '_id': ObjectId('5ad0b844a43c3a0dd71cc239')}\n",
      "{'url': 'https://gihyo.jp/dp/ebook/2018/978-4-7741-9783-8', 'key': '978-4-7741-9783-8', 'title': 'C言語による PICプログラミング大全', 'price': '3,200円', 'content': ['第1部 PICマイコンの概要と開発環境の使い方 第1章 マイコンとプログラミング', '第2章 PICマイコンの概要', '第3章 演習用ハードウェアの製作', '第4章 開発環境とMPLAB X IDEの使い方', '第2部 C言語プログラミングの基礎 第1章 C言語プログラムとは', '第2章 プリプロセッサ', '第3章 データ型', '第4章 演算子の使い方', '第5章 フロー制御関数の使い方', '第6章 モジュール化と関数', '第7章 配列とポインタ', '第8章 構造体，共用体，列挙型の使い方', '第9章 割り込み処理関数', '第10章 標準関数と標準入出力関数', '第3部 MCCと周辺モジュールの使い方 第1章 MCCの概要', '第2章 コンフィギュレーションとクロックの設定', '第3章 入出力ピンの使い方', '第4章 タイマモジュールの使い方', '第5章 シリアル通信モジュールの使い方', '第6章 パルス出力関連モジュールの使い方', '第7章 メモリの使い方', '第8章 アナログモジュールの使い方'], '_id': ObjectId('5ad0b846a43c3a0dd71cc23a')}\n",
      "{'url': 'https://gihyo.jp/dp/ebook/2018/978-4-7741-9767-8', 'key': '978-4-7741-9767-8', 'title': '世界一わかりやすい InDesign 操作とデザインの教科書 CC/CS6対応', 'price': '2,680円', 'content': ['Lesson 01 InDesignの基本', 'Lesson 02 ドキュメントを作ってみよう', 'Lesson 03 ドキュメント設定', 'Lesson 04 文字の入力', 'Lesson 05 書式設定', 'Lesson 06 段落スタイルと文字スタイル', 'Lesson 07 画像の配置と編集', 'Lesson 08 カラーと効果', 'Lesson 09 オブジェクトとパスの操作', 'Lesson 10 デザインのアイデア', 'Lesson 11 表の作成', 'Lesson 12 作業の効率化', 'Lesson 13 ページ数の多いドキュメントの処理', 'Lesson 14 チェックと修正', 'Lesson 15 パッケージと出力'], '_id': ObjectId('5ad0b847a43c3a0dd71cc23b')}\n",
      "{'url': 'https://gihyo.jp/dp/ebook/2018/978-4-7741-9768-5', 'key': '978-4-7741-9768-5', 'title': '前処理大全［データ分析のためのSQL/R/Python実践テクニック］', 'price': '3,000円', 'content': ['Part1 入門前処理 第1章 前処理とは', 'Part2 データ構造を対象とした前処理 第2章 抽出', '第3章 集約', '第4章 結合', '第5章 分割', '第6章 生成', '第7章 展開', 'Part3 データ内容を対象とした前処理 第8章 数値型', '第9章 カテゴリ型', '第10章 日時型', '第11章 文字型', '第12章 位置情報型', 'Part4 実践前処理 第13章 演習問題'], '_id': ObjectId('5ad0b849a43c3a0dd71cc23c')}\n",
      "{'url': 'https://gihyo.jp/dp/ebook/2018/978-4-7741-9770-8', 'key': '978-4-7741-9770-8', 'title': 'Pythonスタートブック［増補改訂版］', 'price': '2,500円', 'content': ['第1章 プログラムを作ろう！', '第2章 プログラムの材料と道具', '第3章 データと型のすべて', '第4章 データの入れ物', '第5章 条件分岐と繰り返し', '第6章 ファイルの読み書き', '第7章 Pythonで画を描く', '第8章 関数を作る', '第9章 新しいデータ型を作る', '第10章 Webアプリケーションを作る', '第11章 データを解析する', '付録'], '_id': ObjectId('5ad0b84ba43c3a0dd71cc23d')}\n",
      "{'url': 'https://gihyo.jp/dp/ebook/2018/978-4-7741-9769-2', 'key': '978-4-7741-9769-2', 'title': '今すぐ使えるかんたんPLUS+ Amazon Kindle Fireタブレット 完全大事典', 'price': '1,380円', 'content': ['第1章 Fireタブレットのキホン', '第2章 電子書籍を読む', '第3章 映画や音楽を楽しむ', '第4章 Fireタブレットのアプリを活用する', '第5章 写真や動画を撮影する', '第6章 Fireタブレットを使いやすくする', '第7章 Amazon Cloud Driveを利用する', '第8章 Amazonプライムのサービスを利用する', '付録 トラブルQ&A'], '_id': ObjectId('5ad0b84ca43c3a0dd71cc23e')}\n",
      "{'url': 'https://gihyo.jp/dp/ebook/2018/978-4-7741-9771-5', 'key': '978-4-7741-9771-5', 'title': 'デジタル顕微鏡で楽しむ！ ミクロワールド美術館', 'price': '1,940円', 'content': ['Introduction', 'PART 1 思わず見とれる自然のアート 「美しい世界」', 'PART 2 身のまわりの興味深い「驚きの世界」', 'PART 3 小さくなって植物を見る「奇妙な世界」', 'PART 4 おそろしいれど惹かれる「迫力の世界」'], '_id': ObjectId('5ad0b84ea43c3a0dd71cc23f')}\n",
      "{'url': 'https://gihyo.jp/dp/ebook/2018/978-4-7741-9772-2', 'key': '978-4-7741-9772-2', 'title': '［改訂新版］WebSphere Application Server構築・運用バイブル【WAS9.0／8.5／Liberty対応】', 'price': '4,800円', 'content': ['第1章 WebSphere Application Serverの基礎知識', '第2章 WAS traditionalの導入', '第3章 WAS traditionalにアプリケーションをデプロイする', '第4章 WAS traditionalの基本的な設定と操作', '第5章 WASを安定稼働させる', '第6章 問題判別', '第7章 パフォーマンス・チューニング', '第8章 WAS traditionalセキュリティの基本を理解する', '第9章 WAS Libertyの導入と構成', '第10章 WAS Libertyにアプリケーションをデプロイする', '第11章 WAS Libertyの設定と操作', '第12章 WAS Libertyの問題判別とパフォーマンス・チューニング', '第13章 クラウドとWAS Liberty'], '_id': ObjectId('5ad0b850a43c3a0dd71cc240')}\n",
      "{'url': 'https://gihyo.jp/dp/ebook/2018/978-4-7741-9550-6', 'key': '978-4-7741-9550-6', 'title': '魅了する無限――アキレスは本当にカメに追いついたのか', 'price': '1,580円', 'content': ['第1章 さまざまな無限', '第2章 実数の連続性をささえる無限', '第3章 ゼノンのパラドックス', '第4章 数のシステム', '第5章 無限と連続の謎と魅力'], '_id': ObjectId('5ad0b852a43c3a0dd71cc241')}\n",
      "{'url': 'https://gihyo.jp/dp/ebook/2018/978-4-7741-9734-0', 'key': '978-4-7741-9734-0', 'title': '28日で即戦力！ サーバ技術者養成講座［改訂3版］', 'price': '3,280円', 'content': ['第1日 サーバ環境の基礎', '第2日 利用技術の基礎-Windows', '第3日 利用技術の基礎.UNIX/Linux（1）', '第4日 利用技術の基礎.UNIX/Linux（2）', '第5日 サーバ導入技術の習得', '第6日 OSおよび学習環境の自動インストール', '第7日 サーバアプリケーションの仕組みと構築', '第8日 メールサーバ', '第9日 ホームページ・サーバ', '第10日 sambaとスーパーサーバ', '第11日 復習テスト', '第12日 セキュリティ・システムの仕組みと構築', '第13日 SSL', '第14日 SSHトンネル', '第15日 ファイアウォール', '第16日 SSHバージョン2', '第17日 半日構築挑戦テスト', '第18日 IPsec', '第19日 自動侵入検出システム', '第20日 データベースサーバとその応用', '第21日 セキュリティ強化と応用', '第22日 セキュリティ強化と応用（メールサーバ）', '第23日 セキュリティ強化と応用（WWWサーバ）', '第24日 SSHトンネル・ゲートウェイ', '第25日 仮想化', '第26日 他のサーバOS', '第27日 運用管理技術', '第28日 ドメイン導入手続き'], '_id': ObjectId('5ad0b853a43c3a0dd71cc242')}\n",
      "{'url': 'https://gihyo.jp/dp/ebook/2018/978-4-7741-9732-6', 'key': '978-4-7741-9732-6', 'title': '平成30-01年度 情報セキュリティマネジメント 試験によくでる問題集', 'price': '1,680円', 'content': ['第1章 情報セキュリティの基本とサイバー攻撃', '第2章 暗号と認証', '第3章 情報セキュリティ管理', '第4章 情報セキュリティ対策', '第5章 企業と法務', '第6章 その他テクノロジ系', '第7章 マネジメント', '第8章 午後問題対策'], '_id': ObjectId('5ad0b855a43c3a0dd71cc243')}\n"
     ]
    },
    {
     "name": "stdout",
     "output_type": "stream",
     "text": [
      "{'url': 'https://gihyo.jp/dp/ebook/2018/978-4-7741-9733-3', 'key': '978-4-7741-9733-3', 'title': '基礎からわかる時系列分析―Rで実践するカルマンフィルタ・MCMC・粒子フィルタ―', 'price': '3,980円', 'content': ['第1章 はじめに', '第2章 確率・統計に関する基礎', '第3章 Rで時系列データを扱う際の基礎', '第4章 時系列分析ひとめぐり', '第5章 状態空間モデル', '第6章 状態空間モデルにおける状態の推定', '第7章 線形・ガウス型状態空間モデルの一括解法', '第8章 線形・ガウス型状態空間モデルの逐次解法', '第9章 線形・ガウス型状態空間モデルにおける代表的な成分モデルの紹介と分析例', '第10章 一般状態空間モデルの一括解法', '第11章 一般状態空間モデルの逐次解法', '第12章 一般状態空間モデルにおける応用的な分析例', '付録'], '_id': ObjectId('5ad0b857a43c3a0dd71cc244')}\n",
      "{'url': 'https://gihyo.jp/dp/ebook/2018/978-4-7741-9731-9', 'key': '978-4-7741-9731-9', 'title': 'らくらく突破 運行管理者試験＜旅客＞合格教本', 'price': '2,080円', 'content': ['第1章 道路運送法', '第2章 道路運送車両法', '第3章 道路交通法', '第4章 労働基準法', '第5章 実務上の知識及び能力'], '_id': ObjectId('5ad0b858a43c3a0dd71cc245')}\n",
      "{'url': 'https://gihyo.jp/dp/ebook/2018/978-4-7741-9729-6', 'key': '978-4-7741-9729-6', 'title': '株式会社＆合同会社のための 法人税の確定申告', 'price': '1,880円', 'content': ['Part 1 決算報告書と法人税申告書の基本', 'Part 2 法人税と法人住民税，事業税を計算する申告書の基本', 'Part 3 法人税申告書を作成するための準備をする ステップ1', 'Part 4 法人税申告書と法人住民税・事業税申告書を作る ステップ2', 'Part 5 法人税申告書と法人住民税・事業税申告書を自分で計算する', 'Part 6 減価償却費の計算方法と別表十六を理解する', 'Part 7 消費税申告書の一般課税と簡易課税の計算を理解する', 'Part 8 法人税申告書を税務署，都道府県，市町村に提出する'], '_id': ObjectId('5ad0b85aa43c3a0dd71cc246')}\n",
      "{'url': 'https://gihyo.jp/dp/ebook/2018/978-4-7741-9714-2', 'key': '978-4-7741-9714-2', 'title': 'はじめてのGoogle Home スマートスピーカーを使いこなそう！［ニュース，音楽，家電操作からさらに楽しい使い方まで］', 'price': '1,180円', 'content': ['Chapter1 Google Homeとスマートスピーカーの基礎知識', 'Chapter2 Google Homeを 使ってみよう', 'Chapter 3 Google Homeをさまざまなサービスと連携させる', 'Chapter 4 Google HomeをAV機器や家電と連携させる', 'Chapter 5 IFTTTでGoogle Homeの 機能を拡張する'], '_id': ObjectId('5ad0b85ba43c3a0dd71cc247')}\n",
      "{'url': 'https://gihyo.jp/dp/ebook/2018/978-4-7741-9730-2', 'key': '978-4-7741-9730-2', 'title': 'はじめてのAmazon Echo スマートスピーカーを使いこなそう！［ニュース，音楽，家電操作からもっと便利な使い方まで］', 'price': '1,180円', 'content': ['Chapter 1 Amazon Echoとスマートスピーカーについて知っておこう', 'Chapter 2 Amazon Echoを使ってみよう', 'Chapter 3 Amazon Echoにスキルを追加する', 'Chapter 4 Amazon Echoをリモコンとして使う', 'Chapter 5 Amazon Echoの機能を拡張する'], '_id': ObjectId('5ad0b85da43c3a0dd71cc248')}\n",
      "{'url': 'https://gihyo.jp/dp/ebook/2018/978-4-7741-9715-9', 'key': '978-4-7741-9715-9', 'title': 'これならわかる！ Googleアナリティクス 今日からはじめるアクセス解析 超入門', 'price': '1,780円', 'content': ['Chapter1 アクセス解析について知ろう', 'Chapter2 Googleアナリティクスを導入しよう', 'Chapter3 Googleアナリティクスの基本的な使いかたを知ろう', 'Chapter4 閲覧者と訪問経路を分析＆改善しよう', 'Chapter5 閲覧状況を分析＆改善しよう ', 'Chapter6 目標を設定＆確認しよう ', 'Chapter7 Googleアナリティクスをもっと使いやすくしよう', 'Chapter8 Googleサーチコンソールと連携して分析＆改善しよう'], '_id': ObjectId('5ad0b85ea43c3a0dd71cc249')}\n",
      "{'url': 'https://gihyo.jp/dp/ebook/2018/978-4-7741-9716-6', 'key': '978-4-7741-9716-6', 'title': 'AviUtl 動画編集 実践ガイドブック', 'price': '2,380円', 'content': ['第1章 AviUtlの基本を知る', '第2章 AviUtlを使ってみよう', '第3章 拡張編集Pluginで編集を行う――チュートリアル編', '第4章 拡張編集Pluginで高度な編集を行う――応用編', '第5章 テキストオブジェクトを配置する', '第6章 AviUtlの上級機能を利用して編集を行う', '第7章 AviUtlの保存，ファイル出力のテクニック', '第8章 ゲーム実況動画を作成する'], '_id': ObjectId('5ad0b860a43c3a0dd71cc24a')}\n",
      "{'url': 'https://gihyo.jp/dp/ebook/2018/978-4-7741-9212-3', 'key': '978-4-7741-9212-3', 'title': 'Software Design 2018年4月号', 'price': '1,318円', 'content': ['第1特集 自分で構築するか，APIで機能を使うか 機械学習の始め方', '第2特集 脱・手順書！ Pythonマイツール作成で仕事効率化', '一般記事', 'Catch Up Trend', 'Test Report', '連載'], '_id': ObjectId('5ad0b861a43c3a0dd71cc24b')}\n",
      "{'url': 'https://gihyo.jp/dp/ebook/2018/978-4-7741-9713-5', 'key': '978-4-7741-9713-5', 'title': '今すぐ使えるかんたんぜったいデキます！ ホームページ作成 超入門', 'price': '1,580円', 'content': ['第1章 ホームページを作る前の準備をしよう', '第2章 Jimdoを使い始めよう', '第3章 ホームページの土台を作ろう', '第4章 トップページを作ろう', '第5章 他のページを作っていこう', '第6章 ホームページを仕上げよう'], '_id': ObjectId('5ad0b863a43c3a0dd71cc24c')}\n",
      "{'url': 'https://gihyo.jp/dp/ebook/2018/978-4-7741-9712-8', 'key': '978-4-7741-9712-8', 'title': 'クラウドエンジニア養成読本［クラウドを武器にするための知識＆実例満載！］', 'price': '1,980円', 'content': ['特集1 ［クラウドの現在，そして未来はどうなる？］ ゼロから学ぶクラウドの世界 ', '特集2 ［三大プラットフォームを使って学ぶ！］ 有名クラウドサービス大研究 ', '特集3 ［事例を知れば百戦危うからず！］ クラウド構築＆運用の極意 '], '_id': ObjectId('5ad0b868a43c3a0dd71cc24d')}\n"
     ]
    }
   ],
   "source": [
    "if __name__=='__main__':\n",
    "    main()"
   ]
  },
  {
   "cell_type": "code",
   "execution_count": null,
   "metadata": {},
   "outputs": [],
   "source": []
  }
 ],
 "metadata": {
  "kernelspec": {
   "display_name": "Python [conda env:py36con]",
   "language": "python",
   "name": "conda-env-py36con-py"
  },
  "language_info": {
   "codemirror_mode": {
    "name": "ipython",
    "version": 3
   },
   "file_extension": ".py",
   "mimetype": "text/x-python",
   "name": "python",
   "nbconvert_exporter": "python",
   "pygments_lexer": "ipython3",
   "version": "3.6.4"
  }
 },
 "nbformat": 4,
 "nbformat_minor": 2
}
