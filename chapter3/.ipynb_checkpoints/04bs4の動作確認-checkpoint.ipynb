{
 "cells": [
  {
   "cell_type": "code",
   "execution_count": 1,
   "metadata": {},
   "outputs": [],
   "source": [
    "from bs4 import BeautifulSoup"
   ]
  },
  {
   "cell_type": "code",
   "execution_count": 2,
   "metadata": {},
   "outputs": [],
   "source": [
    "#第1引数にファイルオブジェクトを指定してBeautifulsouabspオブジェクトを生成する。\n",
    "#BeautifulSoup()にはファイル名やURLを指定することはできない。第2引数にパーサーを指定する。\n",
    "with open('/home/kyohei/index.html') as f:\n",
    "    soup = BeautifulSoup(f,'html.parser')"
   ]
  },
  {
   "cell_type": "code",
   "execution_count": 3,
   "metadata": {},
   "outputs": [],
   "source": [
    "#BeautifulSoupのコンストラクターにはHTMLの文字列を渡すこも可能\n",
    "soup = BeautifulSoup('''\n",
    "<html>\n",
    "<head><title>八百屋オンライン</title></head>\n",
    "<body>\n",
    "<h1 id=\"main\">今日の果物</h1>\n",
    "<ur>\n",
    "    <li>りんご</li>\n",
    "    <li class=\"featured\">みかん</li>\n",
    "    <li>ぶどう</li>\n",
    "</ur>\n",
    "</body>\n",
    "</html>''','html.parser')"
   ]
  },
  {
   "cell_type": "code",
   "execution_count": 5,
   "metadata": {},
   "outputs": [
    {
     "data": {
      "text/plain": [
       "<h1 id=\"main\">今日の果物</h1>"
      ]
     },
     "execution_count": 5,
     "metadata": {},
     "output_type": "execute_result"
    }
   ],
   "source": [
    "soup.h1 #soup.h1のようにタグ名の属性で、h1要素を取得できる。"
   ]
  },
  {
   "cell_type": "code",
   "execution_count": 7,
   "metadata": {},
   "outputs": [
    {
     "data": {
      "text/plain": [
       "bs4.element.Tag"
      ]
     },
     "execution_count": 7,
     "metadata": {},
     "output_type": "execute_result"
    }
   ],
   "source": [
    "type(soup.h1) #要素はタグオブジェクト"
   ]
  },
  {
   "cell_type": "code",
   "execution_count": null,
   "metadata": {},
   "outputs": [],
   "source": []
  }
 ],
 "metadata": {
  "kernelspec": {
   "display_name": "Python [conda env:py36con]",
   "language": "python",
   "name": "conda-env-py36con-py"
  },
  "language_info": {
   "codemirror_mode": {
    "name": "ipython",
    "version": 3
   },
   "file_extension": ".py",
   "mimetype": "text/x-python",
   "name": "python",
   "nbconvert_exporter": "python",
   "pygments_lexer": "ipython3",
   "version": "3.6.4"
  }
 },
 "nbformat": 4,
 "nbformat_minor": 2
}
