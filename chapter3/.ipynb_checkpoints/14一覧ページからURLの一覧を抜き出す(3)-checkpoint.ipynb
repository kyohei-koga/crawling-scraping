{
 "cells": [
  {
   "cell_type": "code",
   "execution_count": 1,
   "metadata": {},
   "outputs": [],
   "source": [
    "import requests\n",
    "import lxml.html"
   ]
  },
  {
   "cell_type": "code",
   "execution_count": 2,
   "metadata": {},
   "outputs": [],
   "source": [
    "def main():\n",
    "    \"\"\"\n",
    "    クローラーのメインの処理\n",
    "    \"\"\"\n",
    "    response = requests.get('https://gihyo.jp/dp')\n",
    "    # scrape_list_page()関数を呼び出し、ジェネレーターイテレーターを取得する。\n",
    "    urls = scrape_list_page(response)\n",
    "    for url in urls: #ジェネレーターイテレーターはlistなどと同様に繰り返し可能。\n",
    "        print(url)"
   ]
  },
  {
   "cell_type": "code",
   "execution_count": 3,
   "metadata": {},
   "outputs": [],
   "source": [
    "def scrape_list_page(response):\n",
    "    \"\"\"\n",
    "    一覧ページのResponseから詳細ページのURLを抜き出すジェネレーター関数\n",
    "    \"\"\"\n",
    "    root = lxml.html.fromstring(response.content)\n",
    "    root.make_links_absolute(response.url)\n",
    "    \n",
    "    for a in root.cssselect('#listBook a[itempprop=\"url\"]'):\n",
    "        url = a.get('href')\n",
    "        yield url #yield文でジェネレーターイテレータの要素を返す"
   ]
  },
  {
   "cell_type": "code",
   "execution_count": 4,
   "metadata": {},
   "outputs": [],
   "source": [
    "if __name__=='__main__':\n",
    "    main()"
   ]
  }
 ],
 "metadata": {
  "kernelspec": {
   "display_name": "Python [conda env:py36con]",
   "language": "python",
   "name": "conda-env-py36con-py"
  },
  "language_info": {
   "codemirror_mode": {
    "name": "ipython",
    "version": 3
   },
   "file_extension": ".py",
   "mimetype": "text/x-python",
   "name": "python",
   "nbconvert_exporter": "python",
   "pygments_lexer": "ipython3",
   "version": "3.6.4"
  }
 },
 "nbformat": 4,
 "nbformat_minor": 2
}
