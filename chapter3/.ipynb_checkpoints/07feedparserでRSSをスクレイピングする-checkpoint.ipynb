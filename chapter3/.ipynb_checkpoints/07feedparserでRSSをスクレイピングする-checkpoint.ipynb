{
 "cells": [
  {
   "cell_type": "code",
   "execution_count": 1,
   "metadata": {},
   "outputs": [],
   "source": [
    "import feedparser"
   ]
  },
  {
   "cell_type": "code",
   "execution_count": 2,
   "metadata": {},
   "outputs": [],
   "source": [
    "#はてなブックマークの人気エントリー（「テクノロジー」カテゴリ）のRSSを読み込む。\n",
    "d = feedparser.parse('http://b.hatena.ne.jp/hotentry/it.rss')"
   ]
  },
  {
   "cell_type": "code",
   "execution_count": 3,
   "metadata": {},
   "outputs": [
    {
     "name": "stdout",
     "output_type": "stream",
     "text": [
      "https://japanese.engadget.com/2018/04/10/line-3-5-9/ 速報：LINE対抗のチャットアプリ「+メッセージ」、3キャリアが5月9日配信開始 - Engadget 日本版\n",
      "https://togetter.com/li/1216821 『pixivが出来る前からホームページを作って絵を公開していた』と中高生に話すとまるで戦争体験記を聞いたような反応が返ってくる - Togetter\n",
      "http://xn--3kqvg.xn--p8j6fir.xn--q9jyb4c/ Let's 退職！\n",
      "http://www.itmedia.co.jp/pcuser/articles/1804/10/news027.html 「他のセキュリティ対策ソフトはもういらない」とアピールするWindows Defenderの現状 (1/4) - ITmedia PC USER\n",
      "https://itchyny.hatenablog.com/entry/2018/04/10/100000 バイナリエディタを作りました！ - プログラムモグモグ\n",
      "https://pc.watch.impress.co.jp/docs/news/1116184.html Windows 3.x時代の“ファイルマネージャ”がオープンソース化で復活 ～Windows 10でも利用可能に - PC Watch\n",
      "https://inside.dmm.com/entry/2018/04/10/nuxt-firebase Nuxt.jsとFirebaseでSPA×SSR×PWA×サーバーレスを実現する - DMM inside\n",
      "http://blog.shibayu36.org/entry/2018/04/09/193000 PostgreSQLでSQLチューニングや障害状況調査に使ったクエリ達まとめ - $shibayu36->blog;\n",
      "https://yuki540.hatenablog.jp/entry/2018/04/10/%E5%B0%82%E9%96%80%E5%AD%A6%E6%A0%A1%E3%81%AB%E5%85%A5%E5%AD%A6%E3%81%97%E3%81%A63%E3%83%B6%E6%9C%88%E3%81%A7%E7%B5%B6%E6%9C%9B%E3%81%97%E3%80%81%E9%80%80%E5%AD%A6%E3%81%97%E3%81%A6%E3%83%8B%E3%83%BC 専門学校に入学して3ヶ月で絶望し、退学してニートになった男の話 - 魔法少女サイト\n",
      "https://soudai.hatenablog.com/entry/2018/04/10/103218 Github projectsが実際に使えるレベルになっていたのでみんな使っていいと思う - そーだいなるらくがき帳\n",
      "https://developers.cyberagent.co.jp/blog/archives/15194/ エンジニア組織のマネージメントってほんと奥が深いですね ～VP of Engineering meetup by CA #3～\n",
      "https://ics.media/entry/17749 最新版で学ぶwebpack 4入門 - Bootstrapをバンドルする方法 - ICS MEDIA\n",
      "https://natalie.mu/comic/news/277369 書体擬人化「フォント男子！」舞台はモリサワ学園、主人公は高2のアンチックAN - コミックナタリー\n",
      "http://dr-asa.hatenablog.com/entry/2018/04/10/171807 Kubernetesで実際のメモリを超えるコンテナアプリを動かすと、どうなるか？ - あさのひとりごと\n",
      "http://www.itmedia.co.jp/mobile/articles/1804/10/news073.html ドコモ、au、ソフトバンク、SMSを進化させた「＋メッセージ」を導入　RCSに準拠 - ITmedia Mobile\n",
      "http://menhera.jp/5806 「専門家監修」の実態　ポストwelq時代の医療デマから身を守るには - メンヘラ.jp\n",
      "https://anond.hatelabo.jp/20180410135900 キャッシュレスって言うけど\n",
      "http://www.publickey1.jp/blog/18/cifastlaneci.html モバイルアプリケーションの開発に特化したCIツール「fastlane.ci」オープンソースで公開。fastlaneチームが開発 － Publickey\n",
      "https://japan.cnet.com/article/35117488/ 大手携帯3社、SMSを進化させた「＋メッセージ」を5月から提供へ--専用スタンプも - CNET Japan\n",
      "http://jp.automaton.am/articles/newsjp/20180410-65902/ 名作アドベンチャーゲーム『Myst』25周年記念パッケージ発表。シリーズ全作をWindows 10対応で収録、「Mystの本」の複製も | AUTOMATON\n",
      "https://headlines.yahoo.co.jp/hl?a=20180410-00000051-zdn_ep-sci iPhoneで道行く人の名前を知る方法（ITmedia エンタープライズ） - Yahoo!ニュース\n",
      "https://note.mu/mzyy94/n/n71a13626d4f5 退職エントリ2018（有償）｜mzyy94｜note\n",
      "https://forest.watch.impress.co.jp/docs/serial/yajiuma/1116188.html 「Windows NT 4.0」のファイルマネージャーがパワーアップしてオープンソースに - やじうまの杜 - 窓の杜\n",
      "https://anond.hatelabo.jp/20180409210736 ちょっと前にドラマでマグマ大使が\n",
      "https://www.shortnote.jp/view/notes/AN2FZxw0 ShortNote のサービス継続と、ノオト社への事業移管のお知らせ by ShortNote 運営チーム | エッセイ投稿サービスShortNote（ショートノート）\n",
      "http://www.orangeitems.com/entry/2018/04/10/171050 ドコモ、au、ソフトバンク、SMSを進化させた「＋メッセージ」を発表も、Googleの思惑とは今のところ違う - orangeitems’s diary\n",
      "http://jp.techcrunch.com/2018/04/10/stock-launch/ Slackだと流れていく情報をチーム内に蓄積できる「Stock」が正式公開、ベータ版は2200社が利用 | TechCrunch Japan\n",
      "http://llxyo.hatenablog.com/entry/2018/04/10/120024 Mastodonブームから一年 - 紗奈日記\n",
      "https://japanese.engadget.com/2018/04/09/windws3-x-github-windows-10/ マイクロソフト、Windws3.x「ファイルマネージャー」ソースをGitHubで公開。Windows 10で動作 - Engadget 日本版\n",
      "https://internet.watch.impress.co.jp/docs/news/1116251.html iOSアプリ「はてなブックマーク」にアドレスバー偽装の脆弱性、速やかに修正バージョンへのアップデートを - INTERNET Watch\n"
     ]
    }
   ],
   "source": [
    "#全ての要素について処理を繰り返す。\n",
    "for entry in d.entries:\n",
    "    print(entry.link,entry.title)"
   ]
  },
  {
   "cell_type": "code",
   "execution_count": null,
   "metadata": {},
   "outputs": [],
   "source": []
  }
 ],
 "metadata": {
  "kernelspec": {
   "display_name": "Python [conda env:py36con]",
   "language": "python",
   "name": "conda-env-py36con-py"
  },
  "language_info": {
   "codemirror_mode": {
    "name": "ipython",
    "version": 3
   },
   "file_extension": ".py",
   "mimetype": "text/x-python",
   "name": "python",
   "nbconvert_exporter": "python",
   "pygments_lexer": "ipython3",
   "version": "3.6.4"
  }
 },
 "nbformat": 4,
 "nbformat_minor": 2
}
