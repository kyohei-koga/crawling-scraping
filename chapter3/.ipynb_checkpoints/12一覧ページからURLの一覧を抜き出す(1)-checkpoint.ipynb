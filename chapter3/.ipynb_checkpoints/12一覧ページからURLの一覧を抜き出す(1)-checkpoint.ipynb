{
 "cells": [
  {
   "cell_type": "code",
   "execution_count": 1,
   "metadata": {},
   "outputs": [],
   "source": [
    "import requests\n",
    "import lxml.html"
   ]
  },
  {
   "cell_type": "code",
   "execution_count": 2,
   "metadata": {},
   "outputs": [],
   "source": [
    "response = requests.get('https://gihyo.jp/dp/')\n",
    "root = lxml.html.fromstring(response.content)"
   ]
  },
  {
   "cell_type": "code",
   "execution_count": 3,
   "metadata": {},
   "outputs": [
    {
     "name": "stdout",
     "output_type": "stream",
     "text": [
      "/dp/ebook/2018/978-4-7741-9787-6\n",
      "/dp/ebook/2018/978-4-7741-9784-5\n",
      "/dp/ebook/2018/978-4-7741-9717-3\n",
      "/dp/ebook/2018/978-4-7741-9765-4\n",
      "/dp/ebook/2018/978-4-7741-9782-1\n",
      "/dp/ebook/2018/978-4-7741-9781-4\n",
      "/dp/ebook/2018/978-4-7741-9783-8\n",
      "/dp/ebook/2018/978-4-7741-9767-8\n",
      "/dp/ebook/2018/978-4-7741-9768-5\n",
      "/dp/ebook/2018/978-4-7741-9770-8\n",
      "/dp/ebook/2018/978-4-7741-9769-2\n",
      "/dp/ebook/2018/978-4-7741-9771-5\n",
      "/dp/ebook/2018/978-4-7741-9772-2\n",
      "/dp/ebook/2018/978-4-7741-9550-6\n",
      "/dp/ebook/2018/978-4-7741-9734-0\n",
      "/dp/ebook/2018/978-4-7741-9732-6\n",
      "/dp/ebook/2018/978-4-7741-9733-3\n",
      "/dp/ebook/2018/978-4-7741-9731-9\n",
      "/dp/ebook/2018/978-4-7741-9729-6\n",
      "/dp/ebook/2018/978-4-7741-9714-2\n",
      "/dp/ebook/2018/978-4-7741-9730-2\n",
      "/dp/ebook/2018/978-4-7741-9715-9\n",
      "/dp/ebook/2018/978-4-7741-9716-6\n",
      "/dp/ebook/2018/978-4-7741-9212-3\n",
      "/dp/ebook/2018/978-4-7741-9713-5\n",
      "/dp/ebook/2018/978-4-7741-9712-8\n",
      "/dp/ebook/2018/978-4-7741-9711-1\n",
      "/dp/ebook/2018/978-4-7741-9709-8\n",
      "/dp/ebook/2018/978-4-7741-9710-4\n",
      "/dp/ebook/2018/978-4-7741-9701-2\n",
      "/dp\n",
      "/dp/my-page\n",
      "/dp/information\n",
      "/dp/help\n"
     ]
    }
   ],
   "source": [
    "for a in root.cssselect('a[itemprop=\"url\"]'):\n",
    "    url = a.get('href')\n",
    "    print(url)"
   ]
  },
  {
   "cell_type": "code",
   "execution_count": null,
   "metadata": {},
   "outputs": [],
   "source": []
  }
 ],
 "metadata": {
  "kernelspec": {
   "display_name": "Python [conda env:py36con]",
   "language": "python",
   "name": "conda-env-py36con-py"
  },
  "language_info": {
   "codemirror_mode": {
    "name": "ipython",
    "version": 3
   },
   "file_extension": ".py",
   "mimetype": "text/x-python",
   "name": "python",
   "nbconvert_exporter": "python",
   "pygments_lexer": "ipython3",
   "version": "3.6.4"
  }
 },
 "nbformat": 4,
 "nbformat_minor": 2
}
