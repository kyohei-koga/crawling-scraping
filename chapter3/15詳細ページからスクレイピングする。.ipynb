{
 "cells": [
  {
   "cell_type": "code",
   "execution_count": 1,
   "metadata": {},
   "outputs": [],
   "source": [
    "import requests\n",
    "import lxml.html"
   ]
  },
  {
   "cell_type": "code",
   "execution_count": 2,
   "metadata": {},
   "outputs": [],
   "source": [
    "def main():\n",
    "    session = requests.Session() # 複数のページをクロールするのでSessionを使う。\n",
    "    response = session.get('https://gihyo.jp/dp')\n",
    "    urls = scrape_list_page(response)\n",
    "    for url in urls:\n",
    "        response = session.get(url) # Sessionを使って詳細ページを取得する。\n",
    "        ebook = scrape_detail_page(response) #詳細ページからスクレイピングして電子書籍の情報を得る。\n",
    "        print(ebook) #電子書籍の情報を表示する。\n",
    "        break #まず1ページだけで試すため、break文でループを抜ける。"
   ]
  },
  {
   "cell_type": "code",
   "execution_count": 3,
   "metadata": {},
   "outputs": [],
   "source": [
    "def scrape_list_page(response):\n",
    "    root = lxml.html.fromstring(response.content)\n",
    "    root.make_links_absolute(response.url)\n",
    "    \n",
    "    for a in root.cssselect('#listBook a[itemprop=\"url\"]'):\n",
    "        url = a.get('href')\n",
    "        yield url"
   ]
  },
  {
   "cell_type": "code",
   "execution_count": 5,
   "metadata": {},
   "outputs": [],
   "source": [
    "def scrape_detail_page(response):\n",
    "    \"\"\"\n",
    "    詳細ページのResponseから電子書籍の情報をdictで取得する\n",
    "    \"\"\"\n",
    "    root = lxml.html.fromstring(response.content)\n",
    "    ebook = {\n",
    "        'url':response.url,#URL\n",
    "        'title':root.cssselect('#bookTitle')[0].text_content(), #タイトル\n",
    "        'price':root.cssselect('.buy')[0].text, #価格（.textで直接の子である文字列のみを取得）\n",
    "        'content':[h3.text_content() for h3 in root.cssselect('#content > h3')], #目次\n",
    "    }\n",
    "\n",
    "    return ebook #dictを返す"
   ]
  },
  {
   "cell_type": "code",
   "execution_count": 7,
   "metadata": {},
   "outputs": [
    {
     "name": "stdout",
     "output_type": "stream",
     "text": [
      "{'url': 'https://gihyo.jp/dp/ebook/2018/978-4-7741-9792-0', 'title': 'WEB+DB PRESS Vol.104', 'price': '1,598円 ', 'content': ['\\r\\n特集1\\r\\n［モダンなコードをギュッと凝縮！］イマドキPython入門\\r\\n文法，機械学習，Web開発を一気に学ぼう\\r\\n', '\\r\\n特集2\\r\\nいきなりiPhoneアプリ開発\\r\\nカメラの写真を加工してTwitter投稿！\\r\\n', '\\r\\n特集3\\r\\nはじめてのUnity\\r\\nシューティングゲームを作ろう！\\r\\n', '連載', 'コラム', 'Special Report', '特別広報']}\n"
     ]
    }
   ],
   "source": [
    "if __name__=='__main__':\n",
    "    main()"
   ]
  },
  {
   "cell_type": "code",
   "execution_count": null,
   "metadata": {},
   "outputs": [],
   "source": []
  }
 ],
 "metadata": {
  "kernelspec": {
   "display_name": "Python [conda env:py36con]",
   "language": "python",
   "name": "conda-env-py36con-py"
  },
  "language_info": {
   "codemirror_mode": {
    "name": "ipython",
    "version": 3
   },
   "file_extension": ".py",
   "mimetype": "text/x-python",
   "name": "python",
   "nbconvert_exporter": "python",
   "pygments_lexer": "ipython3",
   "version": "3.6.4"
  }
 },
 "nbformat": 4,
 "nbformat_minor": 2
}
