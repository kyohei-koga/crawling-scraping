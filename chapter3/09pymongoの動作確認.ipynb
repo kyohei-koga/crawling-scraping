{
 "cells": [
  {
   "cell_type": "code",
   "execution_count": 1,
   "metadata": {},
   "outputs": [],
   "source": [
    "from pymongo import MongoClient"
   ]
  },
  {
   "cell_type": "code",
   "execution_count": 3,
   "metadata": {},
   "outputs": [],
   "source": [
    "#ホスト名とポート番号を指定して接続する。'localhost'と27017はデフォルトなので、省略しても良い。\n",
    "client = MongoClient('localhost',27017)"
   ]
  },
  {
   "cell_type": "code",
   "execution_count": 4,
   "metadata": {},
   "outputs": [],
   "source": [
    "#testデータベースを取得する。データベースが存在しない場合でも書き込み時に自動的に作成される\n",
    "db = client.test"
   ]
  },
  {
   "cell_type": "code",
   "execution_count": 5,
   "metadata": {},
   "outputs": [],
   "source": [
    "db = client['test'] #属性で表せない名前の場合は、dictのスタイでも取得可能"
   ]
  },
  {
   "cell_type": "code",
   "execution_count": 7,
   "metadata": {},
   "outputs": [],
   "source": [
    "#データベースのspotsコレクションを取得する。コレクションが存在しない場合でも書き込み時に自動的に作成される\n",
    "collection = db.spots\n",
    "collection = db['spots'] # 属性で表わせない名前の場合は、dictのスタイルでも取得可能"
   ]
  },
  {
   "cell_type": "code",
   "execution_count": 8,
   "metadata": {},
   "outputs": [
    {
     "data": {
      "text/plain": [
       "<pymongo.results.InsertOneResult at 0x7f16a4f36b08>"
      ]
     },
     "execution_count": 8,
     "metadata": {},
     "output_type": "execute_result"
    }
   ],
   "source": [
    "#insert_one()メッソドでpythonのdictをコレクションに追加できる\n",
    "collection.insert_one({'name':'東京スカイツリー','prefecture':'東京'})"
   ]
  },
  {
   "cell_type": "code",
   "execution_count": 9,
   "metadata": {},
   "outputs": [
    {
     "data": {
      "text/plain": [
       "<pymongo.results.InsertManyResult at 0x7f16a4955e08>"
      ]
     },
     "execution_count": 9,
     "metadata": {},
     "output_type": "execute_result"
    }
   ],
   "source": [
    "#insert_many()メソッドで複数のdictを一度にコレクションに追加する。\n",
    "collection.insert_many([{'name':'東京ディズニーランド','prefecture':'千葉'},\n",
    "                       {'name':'東京ドーム','prefecture':'東京'}])"
   ]
  },
  {
   "cell_type": "code",
   "execution_count": 10,
   "metadata": {},
   "outputs": [
    {
     "data": {
      "text/plain": [
       "<pymongo.cursor.Cursor at 0x7f16a475deb8>"
      ]
     },
     "execution_count": 10,
     "metadata": {},
     "output_type": "execute_result"
    }
   ],
   "source": [
    "#find()メソッドで全てのドキュメントを取得するためのCursorオブジェクトを取得できる。\n",
    "#すべてのドキュメントには_idフィールドが自動で付与され、その値はObjectIdと呼ばれる12バイトの識別子\n",
    "collection.find()"
   ]
  },
  {
   "cell_type": "code",
   "execution_count": 11,
   "metadata": {},
   "outputs": [
    {
     "name": "stdout",
     "output_type": "stream",
     "text": [
      "{'_id': ObjectId('5acf58f5a43c3a0a0c23cf70'), 'name': '東京スカイツリー', 'prefecture': '東京'}\n",
      "{'_id': ObjectId('5acf597ca43c3a0a0c23cf71'), 'name': '東京ディズニーランド', 'prefecture': '千葉'}\n",
      "{'_id': ObjectId('5acf597ca43c3a0a0c23cf72'), 'name': '東京ドーム', 'prefecture': '東京'}\n"
     ]
    }
   ],
   "source": [
    "#Cursorオブジェクトはfor文で順次アクセスできる\n",
    "for spot in collection.find():\n",
    "    print(spot)"
   ]
  },
  {
   "cell_type": "code",
   "execution_count": 12,
   "metadata": {},
   "outputs": [
    {
     "name": "stdout",
     "output_type": "stream",
     "text": [
      "{'_id': ObjectId('5acf58f5a43c3a0a0c23cf70'), 'name': '東京スカイツリー', 'prefecture': '東京'}\n",
      "{'_id': ObjectId('5acf597ca43c3a0a0c23cf72'), 'name': '東京ドーム', 'prefecture': '東京'}\n"
     ]
    }
   ],
   "source": [
    "#find()メソッドの引数にクエリを指定すると、そのクエリにマッチするドキュメントが取得できる。\n",
    "#次のクエリは,prefectureフィールドが東京であるドキュメントにマッチする。\n",
    "for spot in collection.find({'prefecture':'東京'}):\n",
    "    print(spot)"
   ]
  },
  {
   "cell_type": "code",
   "execution_count": 13,
   "metadata": {},
   "outputs": [
    {
     "data": {
      "text/plain": [
       "{'_id': ObjectId('5acf58f5a43c3a0a0c23cf70'),\n",
       " 'name': '東京スカイツリー',\n",
       " 'prefecture': '東京'}"
      ]
     },
     "execution_count": 13,
     "metadata": {},
     "output_type": "execute_result"
    }
   ],
   "source": [
    "collection.find_one() #find_one()メッソドは条件にマッチする最初のドキュメントを取得する。"
   ]
  },
  {
   "cell_type": "code",
   "execution_count": 14,
   "metadata": {},
   "outputs": [
    {
     "data": {
      "text/plain": [
       "{'_id': ObjectId('5acf597ca43c3a0a0c23cf71'),\n",
       " 'name': '東京ディズニーランド',\n",
       " 'prefecture': '千葉'}"
      ]
     },
     "execution_count": 14,
     "metadata": {},
     "output_type": "execute_result"
    }
   ],
   "source": [
    "collection.find_one({'prefecture':'千葉'})"
   ]
  },
  {
   "cell_type": "code",
   "execution_count": null,
   "metadata": {},
   "outputs": [],
   "source": []
  }
 ],
 "metadata": {
  "kernelspec": {
   "display_name": "Python [conda env:py36con]",
   "language": "python",
   "name": "conda-env-py36con-py"
  },
  "language_info": {
   "codemirror_mode": {
    "name": "ipython",
    "version": 3
   },
   "file_extension": ".py",
   "mimetype": "text/x-python",
   "name": "python",
   "nbconvert_exporter": "python",
   "pygments_lexer": "ipython3",
   "version": "3.6.4"
  }
 },
 "nbformat": 4,
 "nbformat_minor": 2
}
