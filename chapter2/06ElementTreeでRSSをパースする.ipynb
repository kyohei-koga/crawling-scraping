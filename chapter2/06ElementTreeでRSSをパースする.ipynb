{
 "cells": [
  {
   "cell_type": "code",
   "execution_count": 1,
   "metadata": {},
   "outputs": [],
   "source": [
    "from xml.etree import ElementTree"
   ]
  },
  {
   "cell_type": "code",
   "execution_count": 2,
   "metadata": {},
   "outputs": [],
   "source": [
    "#parse()関数でファイルを読み込んでElementTreeオブジェクトを得る\n",
    "tree = ElementTree.parse('rss2.xml')"
   ]
  },
  {
   "cell_type": "code",
   "execution_count": 3,
   "metadata": {},
   "outputs": [],
   "source": [
    "root = tree.getroot()"
   ]
  },
  {
   "cell_type": "code",
   "execution_count": 7,
   "metadata": {},
   "outputs": [
    {
     "name": "stdout",
     "output_type": "stream",
     "text": [
      "http://gihyo.jp/admin/clip/01/linux_dt/201804/06 2018年4月6日　Canonicalの製品担当VPが退職，Google Cloudへ ── Linux Daily Topics\n",
      "http://gihyo.jp/news/info/2018/04/0601 MTDDC Meetup HOKKAIDO 2018，6月9日に北海道・札幌で開催 ── インフォメーション\n",
      "http://gihyo.jp/news/report/2018/04/0501 大規模データを扱うための実践的知識を大公開「CyberAgent Data Engineering & Data Analysis Workshop #4 ～春の機械学習祭り～」レポート ── レポート\n",
      "http://gihyo.jp/admin/clip/01/ubuntu-topics/201804/06 2018年4月6日号　bionicのFinal Beta, Spectre/Meltdown対策さらにさらにその後・4月上旬版 ── Ubuntu Weekly Topics\n",
      "http://gihyo.jp/book/pickup/2018/0021 現場で求められる技術とは？ ── 新刊ピックアップ\n",
      "http://gihyo.jp/book/pickup/2018/0020 今更聞けない？ クラウドのポイントを押さえよう ── 新刊ピックアップ\n",
      "http://gihyo.jp/admin/clip/01/linux_dt/201804/05 2018年4月5日　モジュラー化に再挑戦した「Fedora 28」ベータ版が登場，正式リリースは5月8日予定 ── Linux Daily Topics\n",
      "http://gihyo.jp/lifestyle/serial/01/engineer-x-manage/0011 第11回　営業をやるとエンジニアライフに絶対にプラスになる ── エンジニアと経営のクロスオーバー\n",
      "http://gihyo.jp/lifestyle/clip/01/awt/201804/05 2018年4月第1週　Chrome OS搭載のタブレット「Chromebook Tab 10」が発売，未認証端末でGAppsが使えない日が来る？！ ── Android Weekly Topics\n",
      "http://gihyo.jp/design/clip/01/weekly-web-tech/201804/05 2018年4月第1週号 1位は，ユーザーの時間を奪わないためのウェブデザインのヒント，気になるネタは，「Alexa，子供服はどこで取り扱っている？」 池袋PARCOで「Amazon Echo」が館内案内 ── 週刊Webテク通信\n",
      "http://gihyo.jp/book/pickup/2018/0019 無料の動画編集ソフトAviUtlで手軽に実況動画を作ってみよう ── 新刊ピックアップ\n",
      "http://gihyo.jp/book/pickup/2018/0018 クラウド時代のサーバ技術者に求められるスキルとは ── 新刊ピックアップ\n",
      "http://gihyo.jp/admin/clip/01/linux_dt/201804/04 2018年4月4日　Linux 4.16がリリース ―Jailhouseハイパーバイザのサポート，usercopyホワイトリストなど ── Linux Daily Topics\n",
      "http://gihyo.jp/admin/serial/01/ubuntu-recipe/0514 第514回　Intel RealSense D435でバーチャルユーチューバーの深みを味わう ── Ubuntu Weekly Recipe\n",
      "http://gihyo.jp/book/pickup/2018/0017 時系列分析とは？ ～気温や株価を予想するための考え方～ ── 新刊ピックアップ\n",
      "http://gihyo.jp/dev/column/01/iot/2018/iot-engeneer 【イベント開催連動企画】社会に浸透するIoT ～エンジニアが主人公になる時代がやってきた ── 一般記事\n",
      "http://gihyo.jp/dev/serial/01/mysql-road-construction-news/0068 第68回　MySQLにおけるデータの比較 ── MySQL道普請便り\n",
      "http://gihyo.jp/book/pickup/2018/0016 はじめよう！ EDIUS Proで動画編集 ── 新刊ピックアップ\n",
      "http://gihyo.jp/book/pickup/2018/0015 スマートスピーカーがやってきた！ ── 新刊ピックアップ\n",
      "http://gihyo.jp/news/nr/2018/04/0201 「U-22プログラミング・コンテスト2018」詳細発表，公式サイトオープン ── ニュースリリース\n"
     ]
    }
   ],
   "source": [
    "#findall()メソッドでXPathにマッチする要素のリストを取得する。\n",
    "#channel/itemはchannel要素の子要素でitem要素を表す\n",
    "for item in root.findall('channel/item'):\n",
    "    #find()メソッドででXpathにマッチする要素を取得し、text属性で要素の文字列を取得する\n",
    "    title = item.find('title').text #title要素の文字列を取得する。\n",
    "    url = item.find('link').text #link要素の文字列を取得する\n",
    "    print(url,title)"
   ]
  }
 ],
 "metadata": {
  "kernelspec": {
   "display_name": "Python [conda env:py36con]",
   "language": "python",
   "name": "conda-env-py36con-py"
  },
  "language_info": {
   "codemirror_mode": {
    "name": "ipython",
    "version": 3
   },
   "file_extension": ".py",
   "mimetype": "text/x-python",
   "name": "python",
   "nbconvert_exporter": "python",
   "pygments_lexer": "ipython3",
   "version": "3.6.4"
  }
 },
 "nbformat": 4,
 "nbformat_minor": 2
}
