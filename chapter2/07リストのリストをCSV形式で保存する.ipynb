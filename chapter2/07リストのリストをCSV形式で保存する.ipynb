{
 "cells": [
  {
   "cell_type": "code",
   "execution_count": 1,
   "metadata": {},
   "outputs": [],
   "source": [
    "import csv"
   ]
  },
  {
   "cell_type": "code",
   "execution_count": 3,
   "metadata": {},
   "outputs": [],
   "source": [
    "# ファイルを書き込み用に開く。newline=''として改行コードの自動変換を抑制する。\n",
    "with open('top_cites.csv','w',newline='') as f:\n",
    "    writer = csv.writer(f) #csv.writerはファイルオブジェクトを引数に指定する\n",
    "    writer.writerow(['rank','city','population']) #1行目のヘッダーを出力する\n",
    "    #writerrows()で複数の行を一度に出力する。引数はリストのリスト\n",
    "    writer.writerows([\n",
    "        [1,'上海',24150000],\n",
    "        [2,'カラチ',23500000],\n",
    "        [3,'北京',21516000],\n",
    "        [4,'天津',14722100],\n",
    "        [5,'イスタンブル',14160467]\n",
    "    ])"
   ]
  }
 ],
 "metadata": {
  "kernelspec": {
   "display_name": "Python [conda env:py36con]",
   "language": "python",
   "name": "conda-env-py36con-py"
  },
  "language_info": {
   "codemirror_mode": {
    "name": "ipython",
    "version": 3
   },
   "file_extension": ".py",
   "mimetype": "text/x-python",
   "name": "python",
   "nbconvert_exporter": "python",
   "pygments_lexer": "ipython3",
   "version": "3.6.4"
  }
 },
 "nbformat": 4,
 "nbformat_minor": 2
}
