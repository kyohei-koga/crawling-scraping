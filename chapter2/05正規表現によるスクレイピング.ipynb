{
 "cells": [
  {
   "cell_type": "code",
   "execution_count": 1,
   "metadata": {},
   "outputs": [],
   "source": [
    "import re\n",
    "from html import unescape"
   ]
  },
  {
   "cell_type": "code",
   "execution_count": 2,
   "metadata": {},
   "outputs": [],
   "source": [
    "#ダウンロードしたファイルを開き、中身を変数htmlに格納する\n",
    "with open('dp.html') as f:\n",
    "    html= f.read()"
   ]
  },
  {
   "cell_type": "code",
   "execution_count": 3,
   "metadata": {},
   "outputs": [
    {
     "name": "stdout",
     "output_type": "stream",
     "text": [
      "https://gihyo.jp/dp/ebook/2016/978-4-7741-8336-7 これからはじめるプログラミング 作って覚える基礎の基礎\n",
      "https://gihyo.jp/dp/ebook/2016/978-4-7741-8337-4 情報処理技術者試験 平成28年度【秋期】情報セキュリティマネジメント パーフェクトラーニング過去問題集\n",
      "https://gihyo.jp/dp/ebook/2016/978-4-7741-8338-1 大人の自由時間（大人の自由時間mini） 水泳のきれいなカラダをつくる ～スリムな逆三角形になる！ドライランドトレーニング\n",
      "https://gihyo.jp/dp/ebook/2016/978-4-7741-8346-6 30レッスン 30レッスンで絶対合格！ Microsoft Office Specialist PowerPoint 2013 テキスト＋問題集\n",
      "https://gihyo.jp/dp/ebook/2016/978-4-7741-8334-3 ゼロからはじめる ゼロからはじめる 海外旅行でスマホ活用 スマートガイド\n",
      "https://gihyo.jp/dp/ebook/2016/978-4-7741-8335-0 今すぐ使えるかんたんmini 今すぐ使えるかんたんmini CD&DVD 作成超入門 ［Windows 10対応版］\n",
      "https://gihyo.jp/dp/ebook/2016/978-4-7741-8325-1 大きな字でわかりやすい 大きな字でわかりやすい ワード2016入門\n",
      "https://gihyo.jp/dp/ebook/2016/978-4-7741-8322-0 大きな字でわかりやすい 大きな字でわかりやすい エクセル2016 入門\n",
      "https://gihyo.jp/dp/ebook/2016/978-4-7741-8323-7 今すぐ使えるかんたん 今すぐ使えるかんたん ぜったいデキます！ デジカメ写真活用術 ［Windows 10対応版］\n",
      "https://gihyo.jp/dp/ebook/2016/978-4-7741-8119-6 Software Design 2016年8月号\n",
      "https://gihyo.jp/dp/ebook/2016/978-4-7741-8333-6 無料ではじめるBlender CGイラストテクニック ～3DCGの考え方としくみがしっかりわかる\n",
      "https://gihyo.jp/dp/ebook/2016/978-4-7741-8324-4 小さなお店＆会社の WordPress超入門 ―初めてでも安心！思いどおりのホームページを作ろう！\n",
      "https://gihyo.jp/dp/ebook/2016/978-4-7741-8302-2 WEB+DB PRESS plus Atom実践入門 ──進化し続けるハッカブルなエディタ\n",
      "https://gihyo.jp/dp/ebook/2016/978-4-7741-8301-5 アウトライナー実践入門 ～「書く・考える・生活する」創造的アウトライン・プロセッシングの技術〜\n",
      "https://gihyo.jp/dp/ebook/2016/978-4-7741-8297-1 ゼロからはじめる ゼロからはじめる ドコモGalaxy S7 edge SC-02H スマートガイド\n",
      "https://gihyo.jp/dp/ebook/2016/978-4-7741-8255-9 Excelのムカムカ！が一瞬でなくなる使い方 ～表計算・資料作成のストレスを最小限に！\n",
      "https://gihyo.jp/dp/ebook/2016/978-4-7741-8258-2 Wordのムカムカ！が一瞬でなくなる使い方 ～文章・資料作成のストレスを最小限に！\n",
      "https://gihyo.jp/dp/ebook/2016/978-4-7741-8319-0 生物ミステリー（生物ミステリー プロ） そもそも島に進化あり\n",
      "https://gihyo.jp/dp/ebook/2016/978-4-7741-8318-3 大人の自由時間（大人の自由時間mini） 山歩きスタートブック ～道具と歩き方がわかる，行きたいコースが見つかる\n",
      "https://gihyo.jp/dp/ebook/2016/978-4-7741-8317-6 平成28-29年度 基本情報技術者 試験によくでる問題集 【午後】\n",
      "https://gihyo.jp/dp/ebook/2016/978-4-7741-8300-8 大人の自由時間（大人の自由時間mini） あきらめないランニング ～楽しいランのはじめかた，続けかた\n",
      "https://gihyo.jp/dp/ebook/2016/978-4-7741-8299-5 Excel＆Access連携 実践ガイド ～仕事の現場で即使える\n",
      "https://gihyo.jp/dp/ebook/2016/978-4-7741-8296-4 大人の自由時間（大人の自由時間mini） もう一度バイクに乗ろう！ ～羨望されるオトナのライダーになりたい人に\n",
      "https://gihyo.jp/dp/ebook/2016/978-4-7741-8292-6 Slack入門 [ChatOpsによるチーム開発の効率化]\n",
      "https://gihyo.jp/dp/ebook/2016/978-4-7741-8273-5 パソコン入門5冊分！ ＜Windows 10入門＋Windows 10活用＋インターネット＆メール＋Word＋Excel＞\n",
      "https://gihyo.jp/dp/ebook/2016/978-4-7741-8295-7 人気ハンドメイド作家になりたい人が読む本\n",
      "https://gihyo.jp/dp/ebook/2016/978-4-7741-8288-9 今すぐ使えるかんたんEx 今すぐ使えるかんたんEx ヤフオク！ 本気で儲ける！ プロ技セレクション\n",
      "https://gihyo.jp/dp/ebook/2016/978-4-7741-8289-6 今すぐ使えるかんたんmini 今すぐ使えるかんたんmini Access 2016 基本技\n",
      "https://gihyo.jp/dp/ebook/2016/978-4-7741-8290-2 ゼロからはじめる ゼロからはじめる OneNote 2016／2013 スマートガイド\n",
      "https://gihyo.jp/dp/ebook/2016/978-4-7741-8291-9 ゼロからはじめる ゼロからはじめる au Galaxy S7 edge SCV33 スマートガイド\n"
     ]
    }
   ],
   "source": [
    "#re.findall()を使って、書籍1冊に相当する部分のHTMLを取得する。\n",
    "#*?は*と同義だが、なるべく短い文字列にマッチする（non-greedyである）ことを表すメタ文字\n",
    "for partial_html in re.findall(r'<a itemprop=\"url\".*?</ul>\\s*</a></li>',html,re.DOTALL):\n",
    "    #書籍のURLは,itemprop=\"url\"という属性を持つa要素のhref属性から取得する。\n",
    "    url = re.search(r'<a itemprop=\"url\" href=\"(.*?)\"',partial_html).group(1)\n",
    "    url = 'https://gihyo.jp' + url #/ で始まっているのでドメイン名などを追加する。\n",
    "    \n",
    "    #書籍のタイトルはitemprop=\"name\"という属性を持つp要素から取得する。\n",
    "    title = re.search(r'<p itemprop=\"name\".*?</p>',partial_html).group(0)\n",
    "    title = title.replace('<br/>',' ') #<br/>タグをスペースに置き換える。str.replace()は文字列を置換する。\n",
    "    title = re.sub(r'<.*?>','',title)#タグを取り除く\n",
    "    title = unescape(title) #文字参照を元に戻す\n",
    "    \n",
    "    print(url,title)"
   ]
  },
  {
   "cell_type": "code",
   "execution_count": null,
   "metadata": {},
   "outputs": [],
   "source": []
  }
 ],
 "metadata": {
  "kernelspec": {
   "display_name": "Python [conda env:py36con]",
   "language": "python",
   "name": "conda-env-py36con-py"
  },
  "language_info": {
   "codemirror_mode": {
    "name": "ipython",
    "version": 3
   },
   "file_extension": ".py",
   "mimetype": "text/x-python",
   "name": "python",
   "nbconvert_exporter": "python",
   "pygments_lexer": "ipython3",
   "version": "3.6.4"
  }
 },
 "nbformat": 4,
 "nbformat_minor": 2
}
