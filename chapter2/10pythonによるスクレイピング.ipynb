{
 "cells": [
  {
   "cell_type": "code",
   "execution_count": 1,
   "metadata": {},
   "outputs": [],
   "source": [
    "import re\n",
    "import sqlite3\n",
    "from urllib.request import urlopen\n",
    "from html import unescape"
   ]
  },
  {
   "cell_type": "code",
   "execution_count": 2,
   "metadata": {},
   "outputs": [],
   "source": [
    "def main():\n",
    "    \"\"\"\n",
    "    メインの処理。fetch(),scrap(),save()の3つの関数を呼び出す。\n",
    "    \"\"\"\n",
    "    \n",
    "    html = fetch('https://sample.scraping-book.com/dp')\n",
    "    books = scrape(html)\n",
    "    save('books.db',books)"
   ]
  },
  {
   "cell_type": "code",
   "execution_count": 3,
   "metadata": {},
   "outputs": [],
   "source": [
    "def fetch(url):\n",
    "    \"\"\"\n",
    "    引数urlで与えられたURLのwebページを取得する。\n",
    "    webページのエンコーディングはcontent-Typeヘッダーから取得する。\n",
    "    戻り値：str型のHTML\n",
    "    \"\"\"\n",
    "    \n",
    "    f = urlopen(url)\n",
    "    #HTTPヘッダーからエンコーディングを取得する（明示されていない時はutf-8とする）\n",
    "    encoding = f.info().get_content_charset(failobj='utf-8')\n",
    "    html = f.read().decode(encoding) #得られたエンコーディングを指定して文字列にデコードする。\n",
    "    \n",
    "    return html"
   ]
  },
  {
   "cell_type": "code",
   "execution_count": 4,
   "metadata": {},
   "outputs": [],
   "source": [
    "def scrape(html):\n",
    "    \"\"\"\n",
    "    引数htmlで与えられたHTMLから正規表現で書籍の情報を抜き出す。\n",
    "    戻り値：書籍（dict）のリスト\n",
    "    \"\"\"\n",
    "    \n",
    "    books = []\n",
    "    for partial_html in re.findall(r'<a itemprop=\"url\".*?</ul>\\s*</a></li>',html,re.DOTALL):\n",
    "        #書籍のURLはitemprop=\"url\"という属性をもつa要素のhref属性から取得する。\n",
    "        url = re.search(r'<a itemprop=\"url\" href=\"(.*?)\"',partial_html).group(1)\n",
    "        url = 'https://gihyo.jp' + url #/で始まっているのでドメイン名などを追加する。\n",
    "        \n",
    "        #書籍のタイトルはitemprop=\"name\"という属性を持つp要素から取得する\n",
    "        title = re.search(r'<p itemprop=\"name\".*?</p>',partial_html).group(0)\n",
    "        title = unescape(title) #文字参照を元に戻す\n",
    "        \n",
    "        books.append({'url':url,'title':title})\n",
    "        \n",
    "    return books"
   ]
  },
  {
   "cell_type": "code",
   "execution_count": 6,
   "metadata": {},
   "outputs": [],
   "source": [
    "def save(db_path,books):\n",
    "    \"\"\"\n",
    "    引数booksで与えられた書籍のリストをSQLiteデータベースに保存する。\n",
    "    データベースのパスは引数db_pathで与えられる。\n",
    "    戻り値：なし\n",
    "    \"\"\"\n",
    "    \n",
    "    conn = sqlite3.connect(db_path) #データベースを開き、コネクションを取得する\n",
    "    \n",
    "    c = conn.cursor() #カーソルを取得する。\n",
    "    # execute()メソッドでSQL文を実行する。\n",
    "    #このスクリプトを何回実行しても同じ結果になるようにするため、booksテーブルが存在する場合は削除する。\n",
    "    c.execute('DROP TABLE IF EXISTS books')\n",
    "    #booksテーブルを作成する。\n",
    "    c.execute('''\n",
    "        CREATE TABLE books (\n",
    "            title text,\n",
    "            url text\n",
    "        )\n",
    "    ''')\n",
    "    \n",
    "    #excutemany()メソッドは、複数のパラメータをリストで指定できる。\n",
    "    c.executemany('INSERT INTO books VALUES (:title,:url)',books)\n",
    "    \n",
    "    conn.commit() #変更をコミット（保存）する。\n",
    "    conn.close() #コネクションを閉じる。\n",
    "    \n",
    "#pythonコマンドで実行された場合にmain()関数を呼び出す。これはモジュールとして他のファイルから\n",
    "#インポートされた時に、main()関数が実行されないようにするための,pythonにおける一般的なイディオム\n",
    "if __name__ == '__main__':\n",
    "    main()"
   ]
  },
  {
   "cell_type": "code",
   "execution_count": null,
   "metadata": {},
   "outputs": [],
   "source": []
  }
 ],
 "metadata": {
  "kernelspec": {
   "display_name": "Python [conda env:py36con]",
   "language": "python",
   "name": "conda-env-py36con-py"
  },
  "language_info": {
   "codemirror_mode": {
    "name": "ipython",
    "version": 3
   },
   "file_extension": ".py",
   "mimetype": "text/x-python",
   "name": "python",
   "nbconvert_exporter": "python",
   "pygments_lexer": "ipython3",
   "version": "3.6.4"
  }
 },
 "nbformat": 4,
 "nbformat_minor": 2
}
