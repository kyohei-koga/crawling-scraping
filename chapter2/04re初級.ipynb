{
 "cells": [
  {
   "cell_type": "code",
   "execution_count": 1,
   "metadata": {},
   "outputs": [],
   "source": [
    "import re"
   ]
  },
  {
   "cell_type": "code",
   "execution_count": 3,
   "metadata": {},
   "outputs": [
    {
     "data": {
      "text/plain": [
       "<_sre.SRE_Match object; span=(0, 3), match='abc'>"
      ]
     },
     "execution_count": 3,
     "metadata": {},
     "output_type": "execute_result"
    }
   ],
   "source": [
    "#re.search()関数で、第2引数の文字列が第1引数の正規表現にマッチするかどうかをテストする。\n",
    "#マッチする場合はMatchオブジェクトが得られ、マッチしない場合はNoneが得られる。\n",
    "#次の例ではMatchオブジェクトが得られ、match='abc'でabcの部分にマッチしたことがわかる\n",
    "re.search(r'a.*c','abc123DEF')"
   ]
  },
  {
   "cell_type": "code",
   "execution_count": 4,
   "metadata": {},
   "outputs": [],
   "source": [
    "#次の例では、正規表現にマッチしないのでNoneが得られる。\n",
    "re.search(r'a.*d','abc123DEF')"
   ]
  },
  {
   "cell_type": "code",
   "execution_count": 5,
   "metadata": {},
   "outputs": [
    {
     "data": {
      "text/plain": [
       "<_sre.SRE_Match object; span=(0, 7), match='abc123D'>"
      ]
     },
     "execution_count": 5,
     "metadata": {},
     "output_type": "execute_result"
    }
   ],
   "source": [
    "#第3引数にオプションを指定できる\n",
    "#re.IGNORECASE(またはre.I)を指定すると大文字小文字の違いが無視されるため、マッチするようになる。\n",
    "#他にも.が改行を含む全ての文字にマッチするようになる。re.DOTALL(またはre.S)などがある。\n",
    "re.search(r'a.*d','abc123DEF',re.IGNORECASE)"
   ]
  },
  {
   "cell_type": "code",
   "execution_count": 6,
   "metadata": {},
   "outputs": [
    {
     "data": {
      "text/plain": [
       "'abc'"
      ]
     },
     "execution_count": 6,
     "metadata": {},
     "output_type": "execute_result"
    }
   ],
   "source": [
    "#Matchオブジェクトのgroup()メソッドでマッチした値を取得できる。\n",
    "#引数に0を指定すると、正規表現全体にマッチした値が得られる。\n",
    "m = re.search(r'a(.*)c','abc123DEF')\n",
    "m.group(0)"
   ]
  },
  {
   "cell_type": "code",
   "execution_count": 7,
   "metadata": {},
   "outputs": [
    {
     "data": {
      "text/plain": [
       "'b'"
      ]
     },
     "execution_count": 7,
     "metadata": {},
     "output_type": "execute_result"
    }
   ],
   "source": [
    "#引数に1以上の数値を指定すると、正規表現の()で囲った部分（キャプチャ）にマッチした値を取得できる\n",
    "#1なら1番目のキャプチャに、2なら2番目のキャプチャにマッチした値が得られる。\n",
    "m.group(1)"
   ]
  },
  {
   "cell_type": "code",
   "execution_count": 9,
   "metadata": {},
   "outputs": [
    {
     "data": {
      "text/plain": [
       "['This', 'is', 'pen']"
      ]
     },
     "execution_count": 9,
     "metadata": {},
     "output_type": "execute_result"
    }
   ],
   "source": [
    "#re.findall()関数を使うと正規表現にマッチする全ての箇所を取得できる\n",
    "#次の例では、2文字以上の単語を全て抽出している。\n",
    "#\\wはUnicodeで単語の一部になり得る文字にマッチする。他にも空白文字にマッチする\\sなどがある。\n",
    "re.findall(r'\\w{2,}','This is a pen')"
   ]
  },
  {
   "cell_type": "code",
   "execution_count": 11,
   "metadata": {},
   "outputs": [
    {
     "data": {
      "text/plain": [
       "'That That a That'"
      ]
     },
     "execution_count": 11,
     "metadata": {},
     "output_type": "execute_result"
    }
   ],
   "source": [
    "#re.sub()関数を使うと、正規表現にマッチする箇所を置換できる\n",
    "#第3引数の文字列の中で、第1引数の正規表現にマッチする箇所（次の例では2文字以上の単語）を全て、\n",
    "#第2引数の文字列に置換した文字列を取得する\n",
    "re.sub(r'\\w{2,}','That','This is a pen')"
   ]
  }
 ],
 "metadata": {
  "kernelspec": {
   "display_name": "Python [conda env:py36con]",
   "language": "python",
   "name": "conda-env-py36con-py"
  },
  "language_info": {
   "codemirror_mode": {
    "name": "ipython",
    "version": 3
   },
   "file_extension": ".py",
   "mimetype": "text/x-python",
   "name": "python",
   "nbconvert_exporter": "python",
   "pygments_lexer": "ipython3",
   "version": "3.6.4"
  }
 },
 "nbformat": 4,
 "nbformat_minor": 2
}
